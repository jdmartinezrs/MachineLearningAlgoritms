{
  "nbformat": 4,
  "nbformat_minor": 0,
  "metadata": {
    "colab": {
      "provenance": [],
      "authorship_tag": "ABX9TyMjAaI0KnoubRjlubDTUteS",
      "include_colab_link": true
    },
    "kernelspec": {
      "name": "python3",
      "display_name": "Python 3"
    },
    "language_info": {
      "name": "python"
    }
  },
  "cells": [
    {
      "cell_type": "markdown",
      "metadata": {
        "id": "view-in-github",
        "colab_type": "text"
      },
      "source": [
        "<a href=\"https://colab.research.google.com/github/jdmartinezrs/MachineLearningAlgoritms/blob/main/mision3.ipynb\" target=\"_parent\"><img src=\"https://colab.research.google.com/assets/colab-badge.svg\" alt=\"Open In Colab\"/></a>"
      ]
    },
    {
      "cell_type": "code",
      "source": [
        "from google.colab import drive\n",
        "drive.mount('/content/drive')\n",
        "import pandas as pd"
      ],
      "metadata": {
        "colab": {
          "base_uri": "https://localhost:8080/"
        },
        "id": "yco6tH5FmvGj",
        "outputId": "c5b3e0f9-9392-451b-d91a-ab59ff61b91a"
      },
      "execution_count": 1,
      "outputs": [
        {
          "output_type": "stream",
          "name": "stdout",
          "text": [
            "Mounted at /content/drive\n"
          ]
        }
      ]
    },
    {
      "cell_type": "code",
      "source": [
        "sheet_id = \"1r4szNXN8abPstdpZEtuePc89H6AJPgjq\"\n",
        "sheet_url = f\"https://drive.google.com/uc?id={sheet_id}&export=csv\"\n",
        "\n",
        "\n",
        "df = pd.read_csv(sheet_url)"
      ],
      "metadata": {
        "id": "Deb9skpQnmKg"
      },
      "execution_count": 15,
      "outputs": []
    },
    {
      "cell_type": "markdown",
      "source": [
        "Limpieza de datos"
      ],
      "metadata": {
        "id": "lbh8jY2AzPzD"
      }
    },
    {
      "cell_type": "code",
      "source": [
        "df.rename(columns={\n",
        "    'Ult Km/Hr': 'Ult_Km',\n",
        "    'Km/ Hr Plan': 'Km_Plan',\n",
        "    'Km/Hr Cambio': 'Km_Cambio',\n",
        "    'Dias Pend': 'Dias_Pend',\n",
        "    'Tipo de Vehiculo': 'Tipo_Vehiculo',\n",
        "    'Km/Hr Pend': 'Km_Pend',\n",
        "}, inplace=True)"
      ],
      "metadata": {
        "id": "ezGMH9k_tkiN"
      },
      "execution_count": 16,
      "outputs": []
    },
    {
      "cell_type": "code",
      "source": [
        "# Lista de columnas numéricas en las que queremos corregir el formato\n",
        "columnas_numericas = ['Ult_Km', 'Km_Plan', 'Km_Cambio', 'Dias_Pend', 'Km_Pend']\n",
        "\n",
        "# Reemplazar comas por puntos en las columnas numéricas y convertir a tipo float\n",
        "for col in columnas_numericas:\n",
        "    df[col] = df[col].astype(str).str.replace(',', '.').astype(float)"
      ],
      "metadata": {
        "id": "Sq3FMtPBy_FI"
      },
      "execution_count": 17,
      "outputs": []
    },
    {
      "cell_type": "code",
      "source": [
        "# Eliminar filas con valores faltantes (NaN)\n",
        "df_sin_nulos = df.dropna()  # Quita cualquier fila que tenga al menos un NaN\n",
        "print(\"\\nSin nulos:\\n\", df_sin_nulos)\n",
        "\n",
        "# Rellenar valores faltantes con la media de cada columna numérica\n",
        "df_filled = df.copy()  # Crea una copia independiente del DataFrame original\n",
        "\n",
        "# Para cada columna, se reemplazan los NaN con la media de esa columna\n",
        "df_filled['Ult_Km'] = df_filled['Ult_Km'].fillna(df['Ult_Km'].mean())\n",
        "df_filled['Km_Plan'] = df_filled['Km_Plan'].fillna(df['Km_Plan'].mean())\n",
        "df_filled['Km_Cambio'] = df_filled['Km_Cambio'].fillna(df['Km_Cambio'].mean())\n",
        "df_filled['Dias_Pend'] = df_filled['Dias_Pend'].fillna(df['Dias_Pend'].mean())\n",
        "df_filled['Km_Pend'] = df_filled['Km_Pend'].fillna(df['Km_Pend'].mean())\n",
        "\n",
        "\n"
      ],
      "metadata": {
        "colab": {
          "base_uri": "https://localhost:8080/"
        },
        "id": "0xPg2StntGSo",
        "outputId": "5f0a86de-b095-4052-a65e-38fde4bab87f"
      },
      "execution_count": 18,
      "outputs": [
        {
          "output_type": "stream",
          "name": "stdout",
          "text": [
            "\n",
            "Sin nulos:\n",
            "           Fecha  ITEM CODIGO DE EQUIPO    Tipo_Vehiculo fecha de revision  \\\n",
            "0    2024-11-27     1  VE-DT-CH-XMD112        IRRIGADOR        2024-11-27   \n",
            "1    2024-12-02     2  VE-DT-HR-XMD382    VOLQ SENCILLA        2024-12-02   \n",
            "2    2025-01-04     3  VE-DT-HR-XMD878      DOBLETROQUE        2025-01-04   \n",
            "3    2025-01-08     4  VE-DT-CM-XMD818    VOLQ SENCILLA        2025-01-08   \n",
            "4    2024-10-03     5  VE-DT-CH-XMD244             GRUA        2024-10-03   \n",
            "..          ...   ...              ...              ...               ...   \n",
            "995  2024-11-29   996  VE-DT-CH-XMD839             GRUA        2024-11-29   \n",
            "996  2024-11-22   997  VE-DT-CH-XMD891     TRACTOCAMION        2024-11-22   \n",
            "997  2025-04-03   998  VE-DT-CH-XMD296      DOBLETROQUE        2025-04-03   \n",
            "998  2025-05-02   999  VE-DT-HR-XMD510             GRUA        2025-05-02   \n",
            "999  2025-02-04  1000  VE-DT-HR-XMD709     TRACTOCAMION        2025-02-04   \n",
            "\n",
            "     Km_Plan Fecha Ult Pre-Operacional  Dias_Pend    Ult_Km  Km_Cambio  \\\n",
            "0    10000.0                2023-03-03      635.0  327964.0   319834.0   \n",
            "1    10000.0                2023-07-25      496.0  275591.0   265147.0   \n",
            "2    10000.0                2024-09-24      102.0  285784.0   279057.0   \n",
            "3    10000.0                2024-04-04      279.0  236090.0   229365.0   \n",
            "4    10000.0                2023-07-03      458.0  343490.0   333418.0   \n",
            "..       ...                       ...        ...       ...        ...   \n",
            "995  10000.0                2023-12-02      363.0  204604.0   196019.0   \n",
            "996  10000.0                2023-04-27      575.0  259721.0   246137.0   \n",
            "997  10000.0                2024-11-22      132.0  258135.0   251071.0   \n",
            "998  10000.0                2023-12-12      507.0  289561.0   281623.0   \n",
            "999  10000.0                2024-05-11      269.0  236768.0   224956.0   \n",
            "\n",
            "    Fecha Cambio Fecha Prox Cambio Unnamed: 12  Km/Hr Proyectada  Km_Pend  \\\n",
            "0     2022-03-30        2025-04-07  2025-10-04          329603.0   1639.0   \n",
            "1     2022-11-06        2025-08-04  2026-01-31          283386.0   7795.0   \n",
            "2     2023-10-27        2025-05-17  2025-11-13          294327.0   8543.0   \n",
            "3     2023-10-18        2025-09-24  2026-03-23          241108.0   5018.0   \n",
            "4     2022-11-19        2025-08-18  2026-02-14          346195.0   2705.0   \n",
            "..           ...               ...         ...               ...      ...   \n",
            "995   2023-09-07        2025-10-12  2026-04-10          212741.0   8137.0   \n",
            "996   2022-06-28        2025-07-23  2026-01-19          261779.0   2058.0   \n",
            "997   2024-04-23        2025-05-13  2025-11-09          263406.0   5271.0   \n",
            "998   2023-03-06        2026-02-20  2026-08-19          298842.0   9281.0   \n",
            "999   2023-09-19        2025-07-21  2026-01-17          239520.0   2752.0   \n",
            "\n",
            "     Progreso    Unnamed: 16  \\\n",
            "0      0.1639       property   \n",
            "1      0.7795           five   \n",
            "2      0.8543    information   \n",
            "3      0.5018            him   \n",
            "4      0.2705           back   \n",
            "..        ...            ...   \n",
            "995    0.8137            Mrs   \n",
            "996    0.2058  environmental   \n",
            "997    0.5271           line   \n",
            "998    0.9281         series   \n",
            "999    0.2752          stuff   \n",
            "\n",
            "                                         Observaciones  \n",
            "0        Check behind determine member other enjoy so.  \n",
            "1    Tv behavior where realize because book interes...  \n",
            "2    Together little take inside party executive fear.  \n",
            "3               Entire wind democratic but energy pay.  \n",
            "4      Hour form world myself improve capital through.  \n",
            "..                                                 ...  \n",
            "995                        Moment girl let score sign.  \n",
            "996        Need four do turn small arrive peace enjoy.  \n",
            "997             Room my bed begin suffer measure baby.  \n",
            "998                Like mouth lay century action lose.  \n",
            "999                Include cost director relationship.  \n",
            "\n",
            "[1000 rows x 18 columns]\n"
          ]
        }
      ]
    },
    {
      "cell_type": "code",
      "source": [
        "print(\"Número de filas después de la limpieza:\", len(df))"
      ],
      "metadata": {
        "id": "sPbbKKwUO2_0",
        "outputId": "d1740154-a800-4d6e-f075-924a42f92455",
        "colab": {
          "base_uri": "https://localhost:8080/"
        }
      },
      "execution_count": 19,
      "outputs": [
        {
          "output_type": "stream",
          "name": "stdout",
          "text": [
            "Número de filas después de la limpieza: 1000\n"
          ]
        }
      ]
    },
    {
      "cell_type": "code",
      "source": [
        "from sklearn.preprocessing import MinMaxScaler, OneHotEncoder\n",
        "from sklearn.compose import ColumnTransformer\n",
        "from sklearn.pipeline import Pipeline\n",
        "\n",
        "# Supongamos que 'df' es tu DataFrame actual\n",
        "\n",
        "# Columnas numéricas a escalar\n",
        "columnas_a_escalar = ['Ult_Km', 'Km_Plan', 'Km_Cambio', 'Dias_Pend', 'Km_Pend']\n",
        "\n",
        "# Columna categórica a aplicar One-Hot Encoding\n",
        "columna_categorica = ['Tipo_Vehiculo']\n",
        "\n",
        "\n",
        "\n",
        "# Definir el preprocesamiento para cada tipo de columna\n",
        "preprocessor = ColumnTransformer(\n",
        "    transformers=[\n",
        "        ('num', MinMaxScaler(), columnas_a_escalar), # Escalar columnas numéricas y la columna numérica extraída de la fecha\n",
        "        ('cat', OneHotEncoder(), columna_categorica) # Aplicar One-Hot Encoding a la columna categórica\n",
        "    ],\n",
        "    remainder='passthrough' # Mantener las columnas no especificadas (como la columna original de fecha si no la quieres eliminar)\n",
        ")\n",
        "\n",
        "# Crear un pipeline para aplicar el preprocesamiento\n",
        "pipeline = Pipeline(steps=[('preprocessor', preprocessor)])\n",
        "\n",
        "# Aplicar el preprocesamiento al DataFrame\n",
        "df_procesado = pipeline.fit_transform(df)\n",
        "\n",
        "# 'df_procesado' es ahora un array NumPy con tus datos transformados\n",
        "# Si quieres convertirlo de vuelta a un DataFrame, necesitarías manejar los nombres de las columnas\n",
        "# generadas por OneHotEncoder, lo cual puede ser más complejo.\n",
        "# Para empezar, puedes trabajar con el array NumPy."
      ],
      "metadata": {
        "id": "sKsbw6bb3M5_"
      },
      "execution_count": 20,
      "outputs": []
    },
    {
      "cell_type": "code",
      "source": [
        "print(df_procesado)"
      ],
      "metadata": {
        "colab": {
          "base_uri": "https://localhost:8080/"
        },
        "id": "9DhZMnmK4Nn3",
        "outputId": "e25d29f0-314f-43c3-d4de-fff521ade6b8"
      },
      "execution_count": 8,
      "outputs": [
        {
          "output_type": "stream",
          "name": "stdout",
          "text": [
            "[[0.8704379562043794 0.0 0.8547457995728472 ... 0.1639 'property'\n",
            "  'Check behind determine member other enjoy so.']\n",
            " [0.5611461507570925 0.0 0.5497889330664093 ... 0.7795 'five'\n",
            "  'Tv behavior where realize because book interesting later.']\n",
            " [0.6213415066260364 0.0 0.6273567282115912 ... 0.8543 'information'\n",
            "  'Together little take inside party executive fear.']\n",
            " ...\n",
            " [0.4580587248718493 0.0 0.4712954546721909 ... 0.5271 'line'\n",
            "  'Room my bed begin suffer measure baby.']\n",
            " [0.6436468003685067 0.0 0.6416657837358567 ... 0.9281 'series'\n",
            "  'Like mouth lay century action lose.']\n",
            " [0.33187466043039704 0.0 0.32566763510235497 ... 0.2752 'stuff'\n",
            "  'Include cost director relationship.']]\n"
          ]
        }
      ]
    },
    {
      "cell_type": "code",
      "source": [
        "# Get the column names after one-hot encoding\n",
        "# This requires knowing the categories in your categorical column\n",
        "# You can get the categories from the preprocessor\n",
        "ohe_categories = preprocessor.named_transformers_['cat'].categories_[0]\n",
        "ohe_column_names = [f'Tipo_Vehiculo_{cat}' for cat in ohe_categories]\n",
        "\n",
        "# Get the names of the columns that were passed through\n",
        "# You'll need to identify these columns from your original DataFrame\n",
        "# For this example, let's assume the original date columns and other columns are passed through\n",
        "passthrough_columns = [col for col in df.columns if col not in columnas_a_escalar +  columna_categorica]\n",
        "\n",
        "# Combine all the column names in the correct order\n",
        "all_processed_columns = columnas_a_escalar + ohe_column_names + passthrough_columns\n",
        "\n",
        "# Create a new DataFrame from the processed array with the combined column names\n",
        "df_procesado_df = pd.DataFrame(df_procesado, columns=all_processed_columns)\n",
        "\n",
        "# Display the new DataFrame\n",
        "print(df_procesado_df.head())"
      ],
      "metadata": {
        "colab": {
          "base_uri": "https://localhost:8080/"
        },
        "id": "JUdeLXOW4yL_",
        "outputId": "f9d7e131-a099-48ba-fe3c-5dac6099c7f9"
      },
      "execution_count": 21,
      "outputs": [
        {
          "output_type": "stream",
          "name": "stdout",
          "text": [
            "     Ult_Km Km_Plan Km_Cambio Dias_Pend   Km_Pend  \\\n",
            "0  0.870438     0.0  0.854746  0.906475  0.068035   \n",
            "1  0.561146     0.0  0.549789  0.706475  0.754629   \n",
            "2  0.621342     0.0  0.627357  0.139568  0.838055   \n",
            "3  0.327871     0.0  0.350254  0.394245  0.444903   \n",
            "4  0.962128     0.0  0.930496  0.651799  0.186928   \n",
            "\n",
            "  Tipo_Vehiculo_  VOLQ SENCILLA Tipo_Vehiculo_CARRO TANQUE  \\\n",
            "0                           0.0                        0.0   \n",
            "1                           1.0                        0.0   \n",
            "2                           0.0                        0.0   \n",
            "3                           1.0                        0.0   \n",
            "4                           0.0                        0.0   \n",
            "\n",
            "  Tipo_Vehiculo_DOBLETROQUE Tipo_Vehiculo_GRUA Tipo_Vehiculo_IRRIGADOR  ...  \\\n",
            "0                       0.0                0.0                     1.0  ...   \n",
            "1                       0.0                0.0                     0.0  ...   \n",
            "2                       1.0                0.0                     0.0  ...   \n",
            "3                       0.0                0.0                     0.0  ...   \n",
            "4                       0.0                1.0                     0.0  ...   \n",
            "\n",
            "  CODIGO DE EQUIPO fecha de revision Fecha Ult Pre-Operacional Fecha Cambio  \\\n",
            "0  VE-DT-CH-XMD112        2024-11-27                2023-03-03   2022-03-30   \n",
            "1  VE-DT-HR-XMD382        2024-12-02                2023-07-25   2022-11-06   \n",
            "2  VE-DT-HR-XMD878        2025-01-04                2024-09-24   2023-10-27   \n",
            "3  VE-DT-CM-XMD818        2025-01-08                2024-04-04   2023-10-18   \n",
            "4  VE-DT-CH-XMD244        2024-10-03                2023-07-03   2022-11-19   \n",
            "\n",
            "  Fecha Prox Cambio Unnamed: 12 Km/Hr Proyectada Progreso  Unnamed: 16  \\\n",
            "0        2025-04-07  2025-10-04         329603.0   0.1639     property   \n",
            "1        2025-08-04  2026-01-31         283386.0   0.7795         five   \n",
            "2        2025-05-17  2025-11-13         294327.0   0.8543  information   \n",
            "3        2025-09-24  2026-03-23         241108.0   0.5018          him   \n",
            "4        2025-08-18  2026-02-14         346195.0   0.2705         back   \n",
            "\n",
            "                                       Observaciones  \n",
            "0      Check behind determine member other enjoy so.  \n",
            "1  Tv behavior where realize because book interes...  \n",
            "2  Together little take inside party executive fear.  \n",
            "3             Entire wind democratic but energy pay.  \n",
            "4    Hour form world myself improve capital through.  \n",
            "\n",
            "[5 rows x 23 columns]\n"
          ]
        }
      ]
    },
    {
      "cell_type": "code",
      "source": [
        "from sklearn.preprocessing import MinMaxScaler\n",
        "\n",
        "# Seleccionar solo las columnas numéricas a escalar\n",
        "columnas_a_escalar = ['Ult_Km', 'Km_Plan', 'Km_Cambio', 'Dias_Pend', 'Km_Pend']\n",
        "\n",
        "# Crear una instancia de MinMaxScaler\n",
        "scaler = MinMaxScaler()\n"
      ],
      "metadata": {
        "id": "opZnRItA0XgR"
      },
      "execution_count": 22,
      "outputs": []
    },
    {
      "cell_type": "markdown",
      "source": [
        "Codificación de variables"
      ],
      "metadata": {
        "id": "lg6XVEM1EAUr"
      }
    },
    {
      "cell_type": "code",
      "source": [
        "x = df.drop(columns=[\n",
        "    'Tipo_Vehiculo',\n",
        "    'Fecha Ult Pre-Operacional',\n",
        "    'Fecha',             # Add this\n",
        "    'CODIGO DE EQUIPO',  # Add this\n",
        "    'Fecha Cambio',      # Add this\n",
        "    'Fecha Prox Cambio', # Add this\n",
        "    'Unnamed: 12',       # Add this\n",
        "    'Observaciones',\n",
        "    'fecha de revision',\n",
        "    'Unnamed: 16'\n",
        "    # Make sure this is included to drop it\n",
        "         # Add this\n",
        "])\n",
        "y = df['Tipo_Vehiculo']\n"
      ],
      "metadata": {
        "id": "xmi15j1zD3Rg"
      },
      "execution_count": 29,
      "outputs": []
    },
    {
      "cell_type": "code",
      "source": [
        "print(x)"
      ],
      "metadata": {
        "id": "Zvm2OAuaMpS4",
        "outputId": "510596ee-b9fa-43d4-8198-527b143cc92a",
        "colab": {
          "base_uri": "https://localhost:8080/"
        }
      },
      "execution_count": 30,
      "outputs": [
        {
          "output_type": "stream",
          "name": "stdout",
          "text": [
            "     ITEM  Km_Plan  Dias_Pend    Ult_Km  Km_Cambio  Km/Hr Proyectada  Km_Pend  \\\n",
            "0       1  10000.0      635.0  327964.0   319834.0          329603.0   1639.0   \n",
            "1       2  10000.0      496.0  275591.0   265147.0          283386.0   7795.0   \n",
            "2       3  10000.0      102.0  285784.0   279057.0          294327.0   8543.0   \n",
            "3       4  10000.0      279.0  236090.0   229365.0          241108.0   5018.0   \n",
            "4       5  10000.0      458.0  343490.0   333418.0          346195.0   2705.0   \n",
            "..    ...      ...        ...       ...        ...               ...      ...   \n",
            "995   996  10000.0      363.0  204604.0   196019.0          212741.0   8137.0   \n",
            "996   997  10000.0      575.0  259721.0   246137.0          261779.0   2058.0   \n",
            "997   998  10000.0      132.0  258135.0   251071.0          263406.0   5271.0   \n",
            "998   999  10000.0      507.0  289561.0   281623.0          298842.0   9281.0   \n",
            "999  1000  10000.0      269.0  236768.0   224956.0          239520.0   2752.0   \n",
            "\n",
            "     Progreso  \n",
            "0      0.1639  \n",
            "1      0.7795  \n",
            "2      0.8543  \n",
            "3      0.5018  \n",
            "4      0.2705  \n",
            "..        ...  \n",
            "995    0.8137  \n",
            "996    0.2058  \n",
            "997    0.5271  \n",
            "998    0.9281  \n",
            "999    0.2752  \n",
            "\n",
            "[1000 rows x 8 columns]\n"
          ]
        }
      ]
    },
    {
      "cell_type": "code",
      "source": [
        "print(df.columns)"
      ],
      "metadata": {
        "id": "yN-lynH3KMUT",
        "outputId": "7f59ac9e-60ab-417c-e509-6112b29cc898",
        "colab": {
          "base_uri": "https://localhost:8080/"
        }
      },
      "execution_count": 31,
      "outputs": [
        {
          "output_type": "stream",
          "name": "stdout",
          "text": [
            "Index(['Fecha', 'ITEM', 'CODIGO DE EQUIPO', 'Tipo_Vehiculo',\n",
            "       'fecha de revision', 'Km_Plan', 'Fecha Ult Pre-Operacional',\n",
            "       'Dias_Pend', 'Ult_Km', 'Km_Cambio', 'Fecha Cambio', 'Fecha Prox Cambio',\n",
            "       'Unnamed: 12', 'Km/Hr Proyectada', 'Km_Pend', 'Progreso', 'Unnamed: 16',\n",
            "       'Observaciones'],\n",
            "      dtype='object')\n"
          ]
        }
      ]
    },
    {
      "cell_type": "markdown",
      "source": [
        "División de los datos"
      ],
      "metadata": {
        "id": "hqKkV_gaEVEc"
      }
    },
    {
      "cell_type": "code",
      "source": [
        "from sklearn.model_selection import train_test_split\n",
        "\n",
        "x_train, x_test, y_train, y_test = train_test_split(x, y, test_size=0.2, random_state=42)"
      ],
      "metadata": {
        "id": "X2iXWabPEME9"
      },
      "execution_count": 32,
      "outputs": []
    },
    {
      "cell_type": "code",
      "source": [
        "print(x_train.dtypes)"
      ],
      "metadata": {
        "id": "6TU7kJe0HFLq",
        "outputId": "e94deaca-0c26-43b3-e189-c52734414718",
        "colab": {
          "base_uri": "https://localhost:8080/"
        }
      },
      "execution_count": 33,
      "outputs": [
        {
          "output_type": "stream",
          "name": "stdout",
          "text": [
            "ITEM                  int64\n",
            "Km_Plan             float64\n",
            "Dias_Pend           float64\n",
            "Ult_Km              float64\n",
            "Km_Cambio           float64\n",
            "Km/Hr Proyectada    float64\n",
            "Km_Pend             float64\n",
            "Progreso            float64\n",
            "dtype: object\n"
          ]
        }
      ]
    },
    {
      "cell_type": "code",
      "source": [
        "from sklearn.neighbors import KNeighborsClassifier\n",
        "\n",
        "from sklearn.preprocessing import LabelEncoder\n",
        "\n",
        "# Create a LabelEncoder instance\n",
        "label_encoder = LabelEncoder()\n",
        "\n",
        "# Fit the encoder to your target variable and transform it\n",
        "y_encoded = label_encoder.fit_transform(y)\n",
        "\n",
        "# Now use y_encoded when splitting your data and fitting the model\n",
        "x_train, x_test, y_train_encoded, y_test_encoded = train_test_split(x, y_encoded, test_size=0.2, random_state=42)\n",
        "\n",
        "# Fit the KNN model with the encoded target variable\n",
        "knn = KNeighborsClassifier(n_neighbors=3)\n",
        "knn.fit(x_train, y_train_encoded)"
      ],
      "metadata": {
        "id": "ow2mU7yHEb4v",
        "outputId": "325ba760-4b4e-4aa1-a7b8-44af1ecec29f",
        "colab": {
          "base_uri": "https://localhost:8080/",
          "height": 80
        }
      },
      "execution_count": 34,
      "outputs": [
        {
          "output_type": "execute_result",
          "data": {
            "text/plain": [
              "KNeighborsClassifier(n_neighbors=3)"
            ],
            "text/html": [
              "<style>#sk-container-id-1 {\n",
              "  /* Definition of color scheme common for light and dark mode */\n",
              "  --sklearn-color-text: #000;\n",
              "  --sklearn-color-text-muted: #666;\n",
              "  --sklearn-color-line: gray;\n",
              "  /* Definition of color scheme for unfitted estimators */\n",
              "  --sklearn-color-unfitted-level-0: #fff5e6;\n",
              "  --sklearn-color-unfitted-level-1: #f6e4d2;\n",
              "  --sklearn-color-unfitted-level-2: #ffe0b3;\n",
              "  --sklearn-color-unfitted-level-3: chocolate;\n",
              "  /* Definition of color scheme for fitted estimators */\n",
              "  --sklearn-color-fitted-level-0: #f0f8ff;\n",
              "  --sklearn-color-fitted-level-1: #d4ebff;\n",
              "  --sklearn-color-fitted-level-2: #b3dbfd;\n",
              "  --sklearn-color-fitted-level-3: cornflowerblue;\n",
              "\n",
              "  /* Specific color for light theme */\n",
              "  --sklearn-color-text-on-default-background: var(--sg-text-color, var(--theme-code-foreground, var(--jp-content-font-color1, black)));\n",
              "  --sklearn-color-background: var(--sg-background-color, var(--theme-background, var(--jp-layout-color0, white)));\n",
              "  --sklearn-color-border-box: var(--sg-text-color, var(--theme-code-foreground, var(--jp-content-font-color1, black)));\n",
              "  --sklearn-color-icon: #696969;\n",
              "\n",
              "  @media (prefers-color-scheme: dark) {\n",
              "    /* Redefinition of color scheme for dark theme */\n",
              "    --sklearn-color-text-on-default-background: var(--sg-text-color, var(--theme-code-foreground, var(--jp-content-font-color1, white)));\n",
              "    --sklearn-color-background: var(--sg-background-color, var(--theme-background, var(--jp-layout-color0, #111)));\n",
              "    --sklearn-color-border-box: var(--sg-text-color, var(--theme-code-foreground, var(--jp-content-font-color1, white)));\n",
              "    --sklearn-color-icon: #878787;\n",
              "  }\n",
              "}\n",
              "\n",
              "#sk-container-id-1 {\n",
              "  color: var(--sklearn-color-text);\n",
              "}\n",
              "\n",
              "#sk-container-id-1 pre {\n",
              "  padding: 0;\n",
              "}\n",
              "\n",
              "#sk-container-id-1 input.sk-hidden--visually {\n",
              "  border: 0;\n",
              "  clip: rect(1px 1px 1px 1px);\n",
              "  clip: rect(1px, 1px, 1px, 1px);\n",
              "  height: 1px;\n",
              "  margin: -1px;\n",
              "  overflow: hidden;\n",
              "  padding: 0;\n",
              "  position: absolute;\n",
              "  width: 1px;\n",
              "}\n",
              "\n",
              "#sk-container-id-1 div.sk-dashed-wrapped {\n",
              "  border: 1px dashed var(--sklearn-color-line);\n",
              "  margin: 0 0.4em 0.5em 0.4em;\n",
              "  box-sizing: border-box;\n",
              "  padding-bottom: 0.4em;\n",
              "  background-color: var(--sklearn-color-background);\n",
              "}\n",
              "\n",
              "#sk-container-id-1 div.sk-container {\n",
              "  /* jupyter's `normalize.less` sets `[hidden] { display: none; }`\n",
              "     but bootstrap.min.css set `[hidden] { display: none !important; }`\n",
              "     so we also need the `!important` here to be able to override the\n",
              "     default hidden behavior on the sphinx rendered scikit-learn.org.\n",
              "     See: https://github.com/scikit-learn/scikit-learn/issues/21755 */\n",
              "  display: inline-block !important;\n",
              "  position: relative;\n",
              "}\n",
              "\n",
              "#sk-container-id-1 div.sk-text-repr-fallback {\n",
              "  display: none;\n",
              "}\n",
              "\n",
              "div.sk-parallel-item,\n",
              "div.sk-serial,\n",
              "div.sk-item {\n",
              "  /* draw centered vertical line to link estimators */\n",
              "  background-image: linear-gradient(var(--sklearn-color-text-on-default-background), var(--sklearn-color-text-on-default-background));\n",
              "  background-size: 2px 100%;\n",
              "  background-repeat: no-repeat;\n",
              "  background-position: center center;\n",
              "}\n",
              "\n",
              "/* Parallel-specific style estimator block */\n",
              "\n",
              "#sk-container-id-1 div.sk-parallel-item::after {\n",
              "  content: \"\";\n",
              "  width: 100%;\n",
              "  border-bottom: 2px solid var(--sklearn-color-text-on-default-background);\n",
              "  flex-grow: 1;\n",
              "}\n",
              "\n",
              "#sk-container-id-1 div.sk-parallel {\n",
              "  display: flex;\n",
              "  align-items: stretch;\n",
              "  justify-content: center;\n",
              "  background-color: var(--sklearn-color-background);\n",
              "  position: relative;\n",
              "}\n",
              "\n",
              "#sk-container-id-1 div.sk-parallel-item {\n",
              "  display: flex;\n",
              "  flex-direction: column;\n",
              "}\n",
              "\n",
              "#sk-container-id-1 div.sk-parallel-item:first-child::after {\n",
              "  align-self: flex-end;\n",
              "  width: 50%;\n",
              "}\n",
              "\n",
              "#sk-container-id-1 div.sk-parallel-item:last-child::after {\n",
              "  align-self: flex-start;\n",
              "  width: 50%;\n",
              "}\n",
              "\n",
              "#sk-container-id-1 div.sk-parallel-item:only-child::after {\n",
              "  width: 0;\n",
              "}\n",
              "\n",
              "/* Serial-specific style estimator block */\n",
              "\n",
              "#sk-container-id-1 div.sk-serial {\n",
              "  display: flex;\n",
              "  flex-direction: column;\n",
              "  align-items: center;\n",
              "  background-color: var(--sklearn-color-background);\n",
              "  padding-right: 1em;\n",
              "  padding-left: 1em;\n",
              "}\n",
              "\n",
              "\n",
              "/* Toggleable style: style used for estimator/Pipeline/ColumnTransformer box that is\n",
              "clickable and can be expanded/collapsed.\n",
              "- Pipeline and ColumnTransformer use this feature and define the default style\n",
              "- Estimators will overwrite some part of the style using the `sk-estimator` class\n",
              "*/\n",
              "\n",
              "/* Pipeline and ColumnTransformer style (default) */\n",
              "\n",
              "#sk-container-id-1 div.sk-toggleable {\n",
              "  /* Default theme specific background. It is overwritten whether we have a\n",
              "  specific estimator or a Pipeline/ColumnTransformer */\n",
              "  background-color: var(--sklearn-color-background);\n",
              "}\n",
              "\n",
              "/* Toggleable label */\n",
              "#sk-container-id-1 label.sk-toggleable__label {\n",
              "  cursor: pointer;\n",
              "  display: flex;\n",
              "  width: 100%;\n",
              "  margin-bottom: 0;\n",
              "  padding: 0.5em;\n",
              "  box-sizing: border-box;\n",
              "  text-align: center;\n",
              "  align-items: start;\n",
              "  justify-content: space-between;\n",
              "  gap: 0.5em;\n",
              "}\n",
              "\n",
              "#sk-container-id-1 label.sk-toggleable__label .caption {\n",
              "  font-size: 0.6rem;\n",
              "  font-weight: lighter;\n",
              "  color: var(--sklearn-color-text-muted);\n",
              "}\n",
              "\n",
              "#sk-container-id-1 label.sk-toggleable__label-arrow:before {\n",
              "  /* Arrow on the left of the label */\n",
              "  content: \"▸\";\n",
              "  float: left;\n",
              "  margin-right: 0.25em;\n",
              "  color: var(--sklearn-color-icon);\n",
              "}\n",
              "\n",
              "#sk-container-id-1 label.sk-toggleable__label-arrow:hover:before {\n",
              "  color: var(--sklearn-color-text);\n",
              "}\n",
              "\n",
              "/* Toggleable content - dropdown */\n",
              "\n",
              "#sk-container-id-1 div.sk-toggleable__content {\n",
              "  max-height: 0;\n",
              "  max-width: 0;\n",
              "  overflow: hidden;\n",
              "  text-align: left;\n",
              "  /* unfitted */\n",
              "  background-color: var(--sklearn-color-unfitted-level-0);\n",
              "}\n",
              "\n",
              "#sk-container-id-1 div.sk-toggleable__content.fitted {\n",
              "  /* fitted */\n",
              "  background-color: var(--sklearn-color-fitted-level-0);\n",
              "}\n",
              "\n",
              "#sk-container-id-1 div.sk-toggleable__content pre {\n",
              "  margin: 0.2em;\n",
              "  border-radius: 0.25em;\n",
              "  color: var(--sklearn-color-text);\n",
              "  /* unfitted */\n",
              "  background-color: var(--sklearn-color-unfitted-level-0);\n",
              "}\n",
              "\n",
              "#sk-container-id-1 div.sk-toggleable__content.fitted pre {\n",
              "  /* unfitted */\n",
              "  background-color: var(--sklearn-color-fitted-level-0);\n",
              "}\n",
              "\n",
              "#sk-container-id-1 input.sk-toggleable__control:checked~div.sk-toggleable__content {\n",
              "  /* Expand drop-down */\n",
              "  max-height: 200px;\n",
              "  max-width: 100%;\n",
              "  overflow: auto;\n",
              "}\n",
              "\n",
              "#sk-container-id-1 input.sk-toggleable__control:checked~label.sk-toggleable__label-arrow:before {\n",
              "  content: \"▾\";\n",
              "}\n",
              "\n",
              "/* Pipeline/ColumnTransformer-specific style */\n",
              "\n",
              "#sk-container-id-1 div.sk-label input.sk-toggleable__control:checked~label.sk-toggleable__label {\n",
              "  color: var(--sklearn-color-text);\n",
              "  background-color: var(--sklearn-color-unfitted-level-2);\n",
              "}\n",
              "\n",
              "#sk-container-id-1 div.sk-label.fitted input.sk-toggleable__control:checked~label.sk-toggleable__label {\n",
              "  background-color: var(--sklearn-color-fitted-level-2);\n",
              "}\n",
              "\n",
              "/* Estimator-specific style */\n",
              "\n",
              "/* Colorize estimator box */\n",
              "#sk-container-id-1 div.sk-estimator input.sk-toggleable__control:checked~label.sk-toggleable__label {\n",
              "  /* unfitted */\n",
              "  background-color: var(--sklearn-color-unfitted-level-2);\n",
              "}\n",
              "\n",
              "#sk-container-id-1 div.sk-estimator.fitted input.sk-toggleable__control:checked~label.sk-toggleable__label {\n",
              "  /* fitted */\n",
              "  background-color: var(--sklearn-color-fitted-level-2);\n",
              "}\n",
              "\n",
              "#sk-container-id-1 div.sk-label label.sk-toggleable__label,\n",
              "#sk-container-id-1 div.sk-label label {\n",
              "  /* The background is the default theme color */\n",
              "  color: var(--sklearn-color-text-on-default-background);\n",
              "}\n",
              "\n",
              "/* On hover, darken the color of the background */\n",
              "#sk-container-id-1 div.sk-label:hover label.sk-toggleable__label {\n",
              "  color: var(--sklearn-color-text);\n",
              "  background-color: var(--sklearn-color-unfitted-level-2);\n",
              "}\n",
              "\n",
              "/* Label box, darken color on hover, fitted */\n",
              "#sk-container-id-1 div.sk-label.fitted:hover label.sk-toggleable__label.fitted {\n",
              "  color: var(--sklearn-color-text);\n",
              "  background-color: var(--sklearn-color-fitted-level-2);\n",
              "}\n",
              "\n",
              "/* Estimator label */\n",
              "\n",
              "#sk-container-id-1 div.sk-label label {\n",
              "  font-family: monospace;\n",
              "  font-weight: bold;\n",
              "  display: inline-block;\n",
              "  line-height: 1.2em;\n",
              "}\n",
              "\n",
              "#sk-container-id-1 div.sk-label-container {\n",
              "  text-align: center;\n",
              "}\n",
              "\n",
              "/* Estimator-specific */\n",
              "#sk-container-id-1 div.sk-estimator {\n",
              "  font-family: monospace;\n",
              "  border: 1px dotted var(--sklearn-color-border-box);\n",
              "  border-radius: 0.25em;\n",
              "  box-sizing: border-box;\n",
              "  margin-bottom: 0.5em;\n",
              "  /* unfitted */\n",
              "  background-color: var(--sklearn-color-unfitted-level-0);\n",
              "}\n",
              "\n",
              "#sk-container-id-1 div.sk-estimator.fitted {\n",
              "  /* fitted */\n",
              "  background-color: var(--sklearn-color-fitted-level-0);\n",
              "}\n",
              "\n",
              "/* on hover */\n",
              "#sk-container-id-1 div.sk-estimator:hover {\n",
              "  /* unfitted */\n",
              "  background-color: var(--sklearn-color-unfitted-level-2);\n",
              "}\n",
              "\n",
              "#sk-container-id-1 div.sk-estimator.fitted:hover {\n",
              "  /* fitted */\n",
              "  background-color: var(--sklearn-color-fitted-level-2);\n",
              "}\n",
              "\n",
              "/* Specification for estimator info (e.g. \"i\" and \"?\") */\n",
              "\n",
              "/* Common style for \"i\" and \"?\" */\n",
              "\n",
              ".sk-estimator-doc-link,\n",
              "a:link.sk-estimator-doc-link,\n",
              "a:visited.sk-estimator-doc-link {\n",
              "  float: right;\n",
              "  font-size: smaller;\n",
              "  line-height: 1em;\n",
              "  font-family: monospace;\n",
              "  background-color: var(--sklearn-color-background);\n",
              "  border-radius: 1em;\n",
              "  height: 1em;\n",
              "  width: 1em;\n",
              "  text-decoration: none !important;\n",
              "  margin-left: 0.5em;\n",
              "  text-align: center;\n",
              "  /* unfitted */\n",
              "  border: var(--sklearn-color-unfitted-level-1) 1pt solid;\n",
              "  color: var(--sklearn-color-unfitted-level-1);\n",
              "}\n",
              "\n",
              ".sk-estimator-doc-link.fitted,\n",
              "a:link.sk-estimator-doc-link.fitted,\n",
              "a:visited.sk-estimator-doc-link.fitted {\n",
              "  /* fitted */\n",
              "  border: var(--sklearn-color-fitted-level-1) 1pt solid;\n",
              "  color: var(--sklearn-color-fitted-level-1);\n",
              "}\n",
              "\n",
              "/* On hover */\n",
              "div.sk-estimator:hover .sk-estimator-doc-link:hover,\n",
              ".sk-estimator-doc-link:hover,\n",
              "div.sk-label-container:hover .sk-estimator-doc-link:hover,\n",
              ".sk-estimator-doc-link:hover {\n",
              "  /* unfitted */\n",
              "  background-color: var(--sklearn-color-unfitted-level-3);\n",
              "  color: var(--sklearn-color-background);\n",
              "  text-decoration: none;\n",
              "}\n",
              "\n",
              "div.sk-estimator.fitted:hover .sk-estimator-doc-link.fitted:hover,\n",
              ".sk-estimator-doc-link.fitted:hover,\n",
              "div.sk-label-container:hover .sk-estimator-doc-link.fitted:hover,\n",
              ".sk-estimator-doc-link.fitted:hover {\n",
              "  /* fitted */\n",
              "  background-color: var(--sklearn-color-fitted-level-3);\n",
              "  color: var(--sklearn-color-background);\n",
              "  text-decoration: none;\n",
              "}\n",
              "\n",
              "/* Span, style for the box shown on hovering the info icon */\n",
              ".sk-estimator-doc-link span {\n",
              "  display: none;\n",
              "  z-index: 9999;\n",
              "  position: relative;\n",
              "  font-weight: normal;\n",
              "  right: .2ex;\n",
              "  padding: .5ex;\n",
              "  margin: .5ex;\n",
              "  width: min-content;\n",
              "  min-width: 20ex;\n",
              "  max-width: 50ex;\n",
              "  color: var(--sklearn-color-text);\n",
              "  box-shadow: 2pt 2pt 4pt #999;\n",
              "  /* unfitted */\n",
              "  background: var(--sklearn-color-unfitted-level-0);\n",
              "  border: .5pt solid var(--sklearn-color-unfitted-level-3);\n",
              "}\n",
              "\n",
              ".sk-estimator-doc-link.fitted span {\n",
              "  /* fitted */\n",
              "  background: var(--sklearn-color-fitted-level-0);\n",
              "  border: var(--sklearn-color-fitted-level-3);\n",
              "}\n",
              "\n",
              ".sk-estimator-doc-link:hover span {\n",
              "  display: block;\n",
              "}\n",
              "\n",
              "/* \"?\"-specific style due to the `<a>` HTML tag */\n",
              "\n",
              "#sk-container-id-1 a.estimator_doc_link {\n",
              "  float: right;\n",
              "  font-size: 1rem;\n",
              "  line-height: 1em;\n",
              "  font-family: monospace;\n",
              "  background-color: var(--sklearn-color-background);\n",
              "  border-radius: 1rem;\n",
              "  height: 1rem;\n",
              "  width: 1rem;\n",
              "  text-decoration: none;\n",
              "  /* unfitted */\n",
              "  color: var(--sklearn-color-unfitted-level-1);\n",
              "  border: var(--sklearn-color-unfitted-level-1) 1pt solid;\n",
              "}\n",
              "\n",
              "#sk-container-id-1 a.estimator_doc_link.fitted {\n",
              "  /* fitted */\n",
              "  border: var(--sklearn-color-fitted-level-1) 1pt solid;\n",
              "  color: var(--sklearn-color-fitted-level-1);\n",
              "}\n",
              "\n",
              "/* On hover */\n",
              "#sk-container-id-1 a.estimator_doc_link:hover {\n",
              "  /* unfitted */\n",
              "  background-color: var(--sklearn-color-unfitted-level-3);\n",
              "  color: var(--sklearn-color-background);\n",
              "  text-decoration: none;\n",
              "}\n",
              "\n",
              "#sk-container-id-1 a.estimator_doc_link.fitted:hover {\n",
              "  /* fitted */\n",
              "  background-color: var(--sklearn-color-fitted-level-3);\n",
              "}\n",
              "</style><div id=\"sk-container-id-1\" class=\"sk-top-container\"><div class=\"sk-text-repr-fallback\"><pre>KNeighborsClassifier(n_neighbors=3)</pre><b>In a Jupyter environment, please rerun this cell to show the HTML representation or trust the notebook. <br />On GitHub, the HTML representation is unable to render, please try loading this page with nbviewer.org.</b></div><div class=\"sk-container\" hidden><div class=\"sk-item\"><div class=\"sk-estimator fitted sk-toggleable\"><input class=\"sk-toggleable__control sk-hidden--visually\" id=\"sk-estimator-id-1\" type=\"checkbox\" checked><label for=\"sk-estimator-id-1\" class=\"sk-toggleable__label fitted sk-toggleable__label-arrow\"><div><div>KNeighborsClassifier</div></div><div><a class=\"sk-estimator-doc-link fitted\" rel=\"noreferrer\" target=\"_blank\" href=\"https://scikit-learn.org/1.6/modules/generated/sklearn.neighbors.KNeighborsClassifier.html\">?<span>Documentation for KNeighborsClassifier</span></a><span class=\"sk-estimator-doc-link fitted\">i<span>Fitted</span></span></div></label><div class=\"sk-toggleable__content fitted\"><pre>KNeighborsClassifier(n_neighbors=3)</pre></div> </div></div></div></div>"
            ]
          },
          "metadata": {},
          "execution_count": 34
        }
      ]
    }
  ]
}