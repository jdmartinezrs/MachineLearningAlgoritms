{
  "nbformat": 4,
  "nbformat_minor": 0,
  "metadata": {
    "colab": {
      "provenance": [],
      "authorship_tag": "ABX9TyNyENVXQGAjHDvZaKX1eXU0",
      "include_colab_link": true
    },
    "kernelspec": {
      "name": "python3",
      "display_name": "Python 3"
    },
    "language_info": {
      "name": "python"
    }
  },
  "cells": [
    {
      "cell_type": "markdown",
      "metadata": {
        "id": "view-in-github",
        "colab_type": "text"
      },
      "source": [
        "<a href=\"https://colab.research.google.com/github/jdmartinezrs/MachineLearningAlgoritms/blob/main/NeuralNetworks.ipynb\" target=\"_parent\"><img src=\"https://colab.research.google.com/assets/colab-badge.svg\" alt=\"Open In Colab\"/></a>"
      ]
    },
    {
      "cell_type": "markdown",
      "source": [
        "4. Redes Neuronales: arquitectura inspirada en el cerebro.\n",
        "\n",
        "Excelentes para imágenes, voz, y tareas complejas.\n",
        "\n",
        "Ejemplo: Diagnóstico médico basado en imágenes.\n"
      ],
      "metadata": {
        "id": "R5EGTK_jXC2v"
      }
    },
    {
      "cell_type": "markdown",
      "source": [
        "**SEQUENTIAL MODEL NEURAL NETWORK**"
      ],
      "metadata": {
        "id": "95S3y7ftbiGr"
      }
    },
    {
      "cell_type": "code",
      "execution_count": 4,
      "metadata": {
        "id": "F91q8fQcWSoQ"
      },
      "outputs": [],
      "source": [
        "from keras.models import Sequential\n",
        "from keras.layers import Dense\n",
        "from sklearn.model_selection import train_test_split\n",
        "import numpy as np"
      ]
    },
    {
      "cell_type": "code",
      "source": [
        "#Dataset simulado, cada paciente tiene dos características numéricas\n",
        "x= np.array([\n",
        "    [1.2 , 0.3],\n",
        "    [3.4 , 2.2],\n",
        "    [1.5, 0.4],\n",
        "    [3.6 , 2.5],\n",
        "    [1.3, 0.5]\n",
        "])\n",
        "\n",
        "#ETIQUETAS: 0 = Sano, 1= Enfermo\n",
        "y= np.array([0,1,0,1,0])\n",
        "# Dividimos en entrenamiento y prueba\n",
        "x_train, x_test, y_train, y_test = train_test_split(x , y ,test_size= 0.4, random_state=42)\n",
        "# Definimos el modelo secuencial de red neuronal\n",
        "model = Sequential()\n",
        "# Capa oculta con 4 neuronas, entrada de 2 variables y activación Relu\n",
        "model.add(Dense(4, input_dim=2, activation='relu'))\n",
        "\n",
        "#Capa de salida con activación sigmoide para clasificar (probalidad de estar enfermo)\n",
        "model.add(Dense(1,activation = 'sigmoid'))\n",
        "\n",
        "#Copilamos el modelo: función de perdida para clasificación binaria\n",
        "model.compile(loss='binary_crossentropy', optimizer = 'adam', metrics = ['accuracy'])\n",
        "\n",
        "#Entenamos la red durante 50 ciclos (epochs), 1 muestra por batch, sin mostrar progreso\n",
        "model.fit(x_train,y_train, epochs=50, batch_size=1, verbose=0)\n",
        "\n",
        "#Predecimos la probailidad de enfermedad en los datos de prueba\n",
        "resultados = model.predict(x_test)\n",
        "\n",
        "#Mostramos las predicciones redondeadas a 2 decimales\n",
        "print(\"Probabilidad de estar enfermo:\", resultados.round(2))\n"
      ],
      "metadata": {
        "colab": {
          "base_uri": "https://localhost:8080/"
        },
        "id": "b-70z14wX9Hu",
        "outputId": "4334072d-a75a-433d-bc8a-1ba04aa21bd2"
      },
      "execution_count": 5,
      "outputs": [
        {
          "output_type": "stream",
          "name": "stderr",
          "text": [
            "/usr/local/lib/python3.11/dist-packages/keras/src/layers/core/dense.py:87: UserWarning: Do not pass an `input_shape`/`input_dim` argument to a layer. When using Sequential models, prefer using an `Input(shape)` object as the first layer in the model instead.\n",
            "  super().__init__(activity_regularizer=activity_regularizer, **kwargs)\n"
          ]
        },
        {
          "output_type": "stream",
          "name": "stdout",
          "text": [
            "\u001b[1m1/1\u001b[0m \u001b[32m━━━━━━━━━━━━━━━━━━━━\u001b[0m\u001b[37m\u001b[0m \u001b[1m0s\u001b[0m 185ms/step\n",
            "Probabilidad de estar enfermo: [[0.15]\n",
            " [0.38]]\n"
          ]
        }
      ]
    },
    {
      "cell_type": "markdown",
      "source": [
        " Redes Neuronales Artificiales\n",
        "\n",
        " Aplicación: Diagnóstico de enfermedades con rayos X\n",
        "\n",
        " Objetivo: Clasificar imágenes médicas para detectar patologías."
      ],
      "metadata": {
        "id": "lftqATTiXtvU"
      }
    },
    {
      "cell_type": "markdown",
      "source": [
        "![image.png](data:image/png;base64,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)"
      ],
      "metadata": {
        "id": "8fZuK124epeW"
      }
    },
    {
      "cell_type": "markdown",
      "source": [
        "¿Por qué usar redes neuronales?\n",
        "\n",
        "Detectan patrones complejos y no lineales.\n",
        "Son la base de las técnicas modernas de visión por computadora.\n",
        "\n"
      ],
      "metadata": {
        "id": "6gz1fjd2euPT"
      }
    },
    {
      "cell_type": "markdown",
      "source": [
        "Tips prácticos:\n",
        "\n",
        "Usar redes convolucionales (CNN) para imágenes.\n",
        "\n",
        "Requiere más datos y potencia de cálculo que otros modelos.\n"
      ],
      "metadata": {
        "id": "SGZav_V7ez1m"
      }
    },
    {
      "cell_type": "markdown",
      "source": [],
      "metadata": {
        "id": "kEGRIwZ3eeGo"
      }
    },
    {
      "cell_type": "code",
      "source": [],
      "metadata": {
        "id": "uV03tcUycrxE"
      },
      "execution_count": null,
      "outputs": []
    }
  ]
}