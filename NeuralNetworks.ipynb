{
  "nbformat": 4,
  "nbformat_minor": 0,
  "metadata": {
    "colab": {
      "provenance": [],
      "authorship_tag": "ABX9TyO902ZSwmkzrvNOVNOS2rPn",
      "include_colab_link": true
    },
    "kernelspec": {
      "name": "python3",
      "display_name": "Python 3"
    },
    "language_info": {
      "name": "python"
    }
  },
  "cells": [
    {
      "cell_type": "markdown",
      "metadata": {
        "id": "view-in-github",
        "colab_type": "text"
      },
      "source": [
        "<a href=\"https://colab.research.google.com/github/jdmartinezrs/MachineLearningAlgoritms/blob/main/NeuralNetworks.ipynb\" target=\"_parent\"><img src=\"https://colab.research.google.com/assets/colab-badge.svg\" alt=\"Open In Colab\"/></a>"
      ]
    },
    {
      "cell_type": "markdown",
      "source": [
        "4. Redes Neuronales: arquitectura inspirada en el cerebro.\n",
        "\n",
        "Excelentes para imágenes, voz, y tareas complejas.\n",
        "\n",
        "Ejemplo: Diagnóstico médico basado en imágenes.\n"
      ],
      "metadata": {
        "id": "R5EGTK_jXC2v"
      }
    },
    {
      "cell_type": "code",
      "execution_count": null,
      "metadata": {
        "id": "F91q8fQcWSoQ"
      },
      "outputs": [],
      "source": []
    }
  ]
}