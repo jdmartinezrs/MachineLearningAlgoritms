{
  "nbformat": 4,
  "nbformat_minor": 0,
  "metadata": {
    "colab": {
      "provenance": [],
      "authorship_tag": "ABX9TyOzWNkjSB9WAATIRt0difoP",
      "include_colab_link": true
    },
    "kernelspec": {
      "name": "python3",
      "display_name": "Python 3"
    },
    "language_info": {
      "name": "python"
    }
  },
  "cells": [
    {
      "cell_type": "markdown",
      "metadata": {
        "id": "view-in-github",
        "colab_type": "text"
      },
      "source": [
        "<a href=\"https://colab.research.google.com/github/jdmartinezrs/MachineLearningAlgoritms/blob/main/buenCamino.ipynb\" target=\"_parent\"><img src=\"https://colab.research.google.com/assets/colab-badge.svg\" alt=\"Open In Colab\"/></a>"
      ]
    },
    {
      "cell_type": "code",
      "execution_count": null,
      "metadata": {
        "id": "y79eJjhNkF5c"
      },
      "outputs": [],
      "source": [
        "from google.colab import drive\n",
        "drive.mount('/content/drive')\n",
        "import pandas as pd\n"
      ]
    },
    {
      "cell_type": "code",
      "source": [
        "sheet_id = \"1r4szNXN8abPstdpZEtuePc89H6AJPgjq\"\n",
        "sheet_url = f\"https://drive.google.com/uc?id={sheet_id}&export=csv\"\n",
        "df = pd.read_csv(sheet_url)"
      ],
      "metadata": {
        "id": "Uww1nsPakNIE"
      },
      "execution_count": null,
      "outputs": []
    },
    {
      "cell_type": "code",
      "source": [
        "df.rename(columns={\n",
        "    'Ult Km/Hr': 'Ult_Km',\n",
        "    'Tipo de Vehiculo': 'Tipo_Vehiculo',\n",
        "    'Km/Hr Pend': 'Km_Pend',\n",
        "    'Progreso': 'Progreso'\n",
        "}, inplace=True)"
      ],
      "metadata": {
        "id": "nbESJZVvkYyc"
      },
      "execution_count": null,
      "outputs": []
    },
    {
      "cell_type": "code",
      "source": [
        "columnas_a_escalar = ['Ult_Km', 'Tipo_Vehiculo', 'Progreso', 'Km_Pend']\n",
        "columna_categorica = 'Km_Pend'\n"
      ],
      "metadata": {
        "id": "hCPY0esCkcD1"
      },
      "execution_count": null,
      "outputs": []
    },
    {
      "cell_type": "code",
      "source": [
        "from sklearn.preprocessing import MinMaxScaler, OneHotEncoder\n",
        "from sklearn.compose import ColumnTransformer\n",
        "from sklearn.pipeline import Pipeline\n",
        "\n",
        "\n",
        "\n",
        "# Definir el preprocesamiento para cada tipo de columna\n",
        "preprocessor = ColumnTransformer(\n",
        "    transformers=[\n",
        "        ('num', MinMaxScaler(), columnas_a_escalar), # Escalar columnas numéricas y la columna numérica extraída de la fecha\n",
        "        ('cat', OneHotEncoder(), columna_categorica) # Aplicar One-Hot Encoding a la columna categórica\n",
        "    ],\n",
        "    remainder='passthrough' # Mantener las columnas no especificadas (como la columna original de fecha si no la quieres eliminar)\n",
        ")\n",
        "\n",
        "# Crear un pipeline para aplicar el preprocesamiento\n",
        "pipeline = Pipeline(steps=[('preprocessor', preprocessor)])\n",
        "\n",
        "# Aplicar el preprocesamiento al DataFrame\n",
        "df_procesado = pipeline.fit_transform(df)\n"
      ],
      "metadata": {
        "id": "3A93ZGE9k9io"
      },
      "execution_count": null,
      "outputs": []
    },
    {
      "cell_type": "markdown",
      "source": [
        "columnas_a_escalar = ['Ult_Km', 'Tipo_Vehiculo', 'Progreso', 'Km_Pend']\n",
        "\n",
        "columna_categorica = 'Km_Pend'\n"
      ],
      "metadata": {
        "id": "ZUMYgrSqmFlB"
      }
    },
    {
      "cell_type": "code",
      "source": [
        "x = df.drop(columns=[\n",
        "    'Fecha',\n",
        "    'ITEM',\n",
        "    'CODIGO DE EQUIPO',             # Add this\n",
        "    'fecha de revision',  # Add this\n",
        "    'Km/ Hr Plan',      # Add this\n",
        "    'Fecha Ult Pre-Operacional', # Add this\n",
        "    'Dias Pend',       # Add this\n",
        "    'Ult Km/Hr',\n",
        "    'fecha de revision',\n",
        "    'Unnamed: 16'\n",
        "    # Make sure this is included to drop it\n",
        "         # Add this\n",
        "])\n",
        "y = df['Tipo_Vehiculo']"
      ],
      "metadata": {
        "id": "0qUqDg5vldYs"
      },
      "execution_count": null,
      "outputs": []
    },
    {
      "cell_type": "code",
      "source": [
        "from sklearn.model_selection import train_test_split\n",
        "\n",
        "x_train, x_test, y_train, y_test = train_test_split(x, y, test_size=0.2, random_state=42)"
      ],
      "metadata": {
        "id": "uv-LjQ5HmV3s"
      },
      "execution_count": null,
      "outputs": []
    },
    {
      "cell_type": "code",
      "source": [
        "from sklearn.neighbors import KNeighborsClassifier\n",
        "\n",
        "from sklearn.preprocessing import LabelEncoder\n",
        "\n",
        "# Create a LabelEncoder instance\n",
        "label_encoder = LabelEncoder()\n",
        "\n",
        "# Fit the encoder to your target variable and transform it\n",
        "y_encoded = label_encoder.fit_transform(y)\n",
        "\n",
        "# Now use y_encoded when splitting your data and fitting the model\n",
        "x_train, x_test, y_train_encoded, y_test_encoded = train_test_split(x, y_encoded, test_size=0.2, random_state=42)\n",
        "\n",
        "# Fit the KNN model with the encoded target variable\n",
        "knn = KNeighborsClassifier(n_neighbors=3)\n",
        "knn.fit(x_train, y_train_encoded)"
      ],
      "metadata": {
        "id": "b3u37Rn1mYSz"
      },
      "execution_count": null,
      "outputs": []
    }
  ]
}