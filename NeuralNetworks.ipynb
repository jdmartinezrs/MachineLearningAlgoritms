{
  "nbformat": 4,
  "nbformat_minor": 0,
  "metadata": {
    "colab": {
      "provenance": [],
      "authorship_tag": "ABX9TyMrmsJYiqWHDnWb04eQ6zG0",
      "include_colab_link": true
    },
    "kernelspec": {
      "name": "python3",
      "display_name": "Python 3"
    },
    "language_info": {
      "name": "python"
    }
  },
  "cells": [
    {
      "cell_type": "markdown",
      "metadata": {
        "id": "view-in-github",
        "colab_type": "text"
      },
      "source": [
        "<a href=\"https://colab.research.google.com/github/jdmartinezrs/MachineLearningAlgoritms/blob/main/NeuralNetworks.ipynb\" target=\"_parent\"><img src=\"https://colab.research.google.com/assets/colab-badge.svg\" alt=\"Open In Colab\"/></a>"
      ]
    },
    {
      "cell_type": "markdown",
      "source": [
        "4. Redes Neuronales: arquitectura inspirada en el cerebro.\n",
        "\n",
        "Excelentes para imágenes, voz, y tareas complejas.\n",
        "\n",
        "Ejemplo: Diagnóstico médico basado en imágenes.\n"
      ],
      "metadata": {
        "id": "R5EGTK_jXC2v"
      }
    },
    {
      "cell_type": "markdown",
      "source": [
        "**SEQUENTIAL MODEL NEURAL NETWORK**"
      ],
      "metadata": {
        "id": "95S3y7ftbiGr"
      }
    },
    {
      "cell_type": "code",
      "execution_count": 4,
      "metadata": {
        "id": "F91q8fQcWSoQ"
      },
      "outputs": [],
      "source": [
        "from keras.models import Sequential\n",
        "from keras.layers import Dense\n",
        "from sklearn.model_selection import train_test_split\n",
        "import numpy as np"
      ]
    },
    {
      "cell_type": "code",
      "source": [
        "#Dataset simulado, cada paciente tiene dos características numéricas\n",
        "x= np.array([\n",
        "    [1.2 , 0.3],\n",
        "    [3.4 , 2.2],\n",
        "    [1.5, 0.4],\n",
        "    [3.6 , 2.5],\n",
        "    [1.3, 0.5]\n",
        "])\n",
        "\n",
        "#ETIQUETAS: 0 = Sano, 1= Enfermo\n",
        "y= np.array([0,1,0,1,0])\n",
        "# Dividimos en entrenamiento y prueba\n",
        "x_train, x_test, y_train, y_test = train_test_split(x , y ,test_size= 0.4, random_state=42)\n",
        "# Definimos el modelo secuencial de red neuronal\n",
        "model = Sequential()\n",
        "# Capa oculta con 4 neuronas, entrada de 2 variables y activación Relu\n",
        "model.add(Dense(4, input_dim=2, activation='relu'))\n",
        "\n",
        "#Capa de salida con activación sigmoide para clasificar (probalidad de estar enfermo)\n",
        "model.add(Dense(1,activation = 'sigmoid'))\n",
        "\n",
        "#Copilamos el modelo: función de perdida para clasificación binaria\n",
        "model.compile(loss='binary_crossentropy', optimizer = 'adam', metrics = ['accuracy'])\n",
        "\n",
        "#Entenamos la red durante 50 ciclos (epochs), 1 muestra por batch, sin mostrar progreso\n",
        "model.fit(x_train,y_train, epochs=50, batch_size=1, verbose=0)\n",
        "\n",
        "#Predecimos la probailidad de enfermedad en los datos de prueba\n",
        "resultados = model.predict(x_test)\n",
        "\n",
        "#Mostramos las predicciones redondeadas a 2 decimales\n",
        "print(\"Probabilidad de estar enfermo:\", resultados.round(2))\n"
      ],
      "metadata": {
        "id": "b-70z14wX9Hu",
        "outputId": "4334072d-a75a-433d-bc8a-1ba04aa21bd2",
        "colab": {
          "base_uri": "https://localhost:8080/"
        }
      },
      "execution_count": 5,
      "outputs": [
        {
          "output_type": "stream",
          "name": "stderr",
          "text": [
            "/usr/local/lib/python3.11/dist-packages/keras/src/layers/core/dense.py:87: UserWarning: Do not pass an `input_shape`/`input_dim` argument to a layer. When using Sequential models, prefer using an `Input(shape)` object as the first layer in the model instead.\n",
            "  super().__init__(activity_regularizer=activity_regularizer, **kwargs)\n"
          ]
        },
        {
          "output_type": "stream",
          "name": "stdout",
          "text": [
            "\u001b[1m1/1\u001b[0m \u001b[32m━━━━━━━━━━━━━━━━━━━━\u001b[0m\u001b[37m\u001b[0m \u001b[1m0s\u001b[0m 185ms/step\n",
            "Probabilidad de estar enfermo: [[0.15]\n",
            " [0.38]]\n"
          ]
        }
      ]
    },
    {
      "cell_type": "markdown",
      "source": [
        "x"
      ],
      "metadata": {
        "id": "lftqATTiXtvU"
      }
    }
  ]
}