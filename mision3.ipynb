{
  "nbformat": 4,
  "nbformat_minor": 0,
  "metadata": {
    "colab": {
      "provenance": [],
      "authorship_tag": "ABX9TyMCrspjTpLU5XFFK+AlwBXM",
      "include_colab_link": true
    },
    "kernelspec": {
      "name": "python3",
      "display_name": "Python 3"
    },
    "language_info": {
      "name": "python"
    }
  },
  "cells": [
    {
      "cell_type": "markdown",
      "metadata": {
        "id": "view-in-github",
        "colab_type": "text"
      },
      "source": [
        "<a href=\"https://colab.research.google.com/github/jdmartinezrs/MachineLearningAlgoritms/blob/main/mision3.ipynb\" target=\"_parent\"><img src=\"https://colab.research.google.com/assets/colab-badge.svg\" alt=\"Open In Colab\"/></a>"
      ]
    },
    {
      "cell_type": "code",
      "source": [
        "from google.colab import drive\n",
        "drive.mount('/content/drive')\n",
        "import pandas as pd"
      ],
      "metadata": {
        "colab": {
          "base_uri": "https://localhost:8080/"
        },
        "id": "yco6tH5FmvGj",
        "outputId": "f9bd6acb-ba58-4a6b-cc33-1136d875a7e1"
      },
      "execution_count": 5,
      "outputs": [
        {
          "output_type": "stream",
          "name": "stdout",
          "text": [
            "Drive already mounted at /content/drive; to attempt to forcibly remount, call drive.mount(\"/content/drive\", force_remount=True).\n"
          ]
        }
      ]
    },
    {
      "cell_type": "code",
      "source": [
        "sheet_id = '1Te2gVFrIhMKCPS5WDFTz7XuLQBBG_8CJ'\n",
        "sheet_url = f'https://drive.google.com/uc?id={sheet_id}&export=download'\n",
        "df = pd.read_excel(sheet_url, header=5)"
      ],
      "metadata": {
        "id": "Deb9skpQnmKg"
      },
      "execution_count": 182,
      "outputs": []
    },
    {
      "cell_type": "markdown",
      "source": [
        "Limpieza de datos"
      ],
      "metadata": {
        "id": "lbh8jY2AzPzD"
      }
    },
    {
      "cell_type": "code",
      "source": [
        "df.rename(columns={\n",
        "    'Ult Km/Hr': 'Ult_Km',\n",
        "    'Km/ Hr Plan': 'Km_Plan',\n",
        "    'Km/Hr Cambio': 'Km_Cambio',\n",
        "    'Dias Pend': 'Dias_Pend',\n",
        "    'Tipo de Vehiculo': 'Tipo_Vehiculo',\n",
        "    'Km/Hr Pend': 'Km_Pend',\n",
        "}, inplace=True)"
      ],
      "metadata": {
        "id": "ezGMH9k_tkiN"
      },
      "execution_count": 183,
      "outputs": []
    },
    {
      "cell_type": "code",
      "source": [
        "# Lista de columnas numéricas en las que queremos corregir el formato\n",
        "columnas_numericas = ['Ult_Km', 'Km_Plan', 'Km_Cambio', 'Dias_Pend', 'Km_Pend']\n",
        "\n",
        "# Reemplazar comas por puntos en las columnas numéricas y convertir a tipo float\n",
        "for col in columnas_numericas:\n",
        "    df[col] = df[col].astype(str).str.replace(',', '.').astype(float)"
      ],
      "metadata": {
        "id": "Sq3FMtPBy_FI"
      },
      "execution_count": 184,
      "outputs": []
    },
    {
      "cell_type": "code",
      "source": [
        "# Eliminar filas con valores faltantes (NaN)\n",
        "df_sin_nulos = df.dropna()  # Quita cualquier fila que tenga al menos un NaN\n",
        "print(\"\\nSin nulos:\\n\", df_sin_nulos)\n",
        "\n",
        "# Rellenar valores faltantes con la media de cada columna numérica\n",
        "df_filled = df.copy()  # Crea una copia independiente del DataFrame original\n",
        "\n",
        "# Para cada columna, se reemplazan los NaN con la media de esa columna\n",
        "df_filled['Ult_Km'] = df_filled['Ult_Km'].fillna(df['Ult_Km'].mean())\n",
        "df_filled['Km_Plan'] = df_filled['Km_Plan'].fillna(df['Km_Plan'].mean())\n",
        "df_filled['Km_Cambio'] = df_filled['Km_Cambio'].fillna(df['Km_Cambio'].mean())\n",
        "df_filled['Dias_Pend'] = df_filled['Dias_Pend'].fillna(df['Dias_Pend'].mean())\n",
        "df_filled['Km_Pend'] = df_filled['Km_Pend'].fillna(df['Km_Pend'].mean())\n",
        "\n",
        "\n"
      ],
      "metadata": {
        "colab": {
          "base_uri": "https://localhost:8080/"
        },
        "id": "0xPg2StntGSo",
        "outputId": "a90f5d09-fe9a-4baf-e2b0-5897f51d6441"
      },
      "execution_count": 185,
      "outputs": [
        {
          "output_type": "stream",
          "name": "stdout",
          "text": [
            "\n",
            "Sin nulos:\n",
            "                      Fecha  ITEM CODIGO DE EQUIPO Tipo_Vehiculo  \\\n",
            "19 2025-05-23 17:24:11.232  20.0  VE-GR-FO-WFG316          GRUA   \n",
            "\n",
            "   fecha de revision  Km_Plan Fecha Ult Pre-Operacional  Dias_Pend    Ult_Km  \\\n",
            "19        2025-05-23   5000.0                2025-05-20        3.0  149068.0   \n",
            "\n",
            "    Km_Cambio Fecha Cambio Fecha Prox Cambio Unnamed: 12  Km/Hr Proyectada  \\\n",
            "19   146837.0   2025-01-20        2025-05-10  2025-12-06          151837.0   \n",
            "\n",
            "    Km_Pend  Progreso  Unnamed: 16 Observaciones   \n",
            "19   2769.0    0.5538        27.69      trienergy  \n"
          ]
        }
      ]
    },
    {
      "cell_type": "code",
      "source": [
        "print(\"Número de filas después de la limpieza:\", len(df))"
      ],
      "metadata": {
        "id": "sPbbKKwUO2_0",
        "outputId": "834c49a5-a270-4da8-9260-41eac76d704d",
        "colab": {
          "base_uri": "https://localhost:8080/"
        }
      },
      "execution_count": 186,
      "outputs": [
        {
          "output_type": "stream",
          "name": "stdout",
          "text": [
            "Número de filas después de la limpieza: 36\n"
          ]
        }
      ]
    },
    {
      "cell_type": "code",
      "source": [
        "from sklearn.preprocessing import MinMaxScaler, OneHotEncoder\n",
        "from sklearn.compose import ColumnTransformer\n",
        "from sklearn.pipeline import Pipeline\n",
        "\n",
        "# Supongamos que 'df' es tu DataFrame actual\n",
        "\n",
        "# Columnas numéricas a escalar\n",
        "columnas_a_escalar = ['Ult_Km', 'Km_Plan', 'Km_Cambio', 'Dias_Pend', 'Km_Pend']\n",
        "\n",
        "# Columna categórica a aplicar One-Hot Encoding\n",
        "columna_categorica = ['Tipo_Vehiculo']\n",
        "\n",
        "\n",
        "\n",
        "# Definir el preprocesamiento para cada tipo de columna\n",
        "preprocessor = ColumnTransformer(\n",
        "    transformers=[\n",
        "        ('num', MinMaxScaler(), columnas_a_escalar), # Escalar columnas numéricas y la columna numérica extraída de la fecha\n",
        "        ('cat', OneHotEncoder(), columna_categorica) # Aplicar One-Hot Encoding a la columna categórica\n",
        "    ],\n",
        "    remainder='passthrough' # Mantener las columnas no especificadas (como la columna original de fecha si no la quieres eliminar)\n",
        ")\n",
        "\n",
        "# Crear un pipeline para aplicar el preprocesamiento\n",
        "pipeline = Pipeline(steps=[('preprocessor', preprocessor)])\n",
        "\n",
        "# Aplicar el preprocesamiento al DataFrame\n",
        "df_procesado = pipeline.fit_transform(df)\n",
        "\n",
        "# 'df_procesado' es ahora un array NumPy con tus datos transformados\n",
        "# Si quieres convertirlo de vuelta a un DataFrame, necesitarías manejar los nombres de las columnas\n",
        "# generadas por OneHotEncoder, lo cual puede ser más complejo.\n",
        "# Para empezar, puedes trabajar con el array NumPy."
      ],
      "metadata": {
        "id": "sKsbw6bb3M5_"
      },
      "execution_count": 187,
      "outputs": []
    },
    {
      "cell_type": "code",
      "source": [
        "print(df_procesado)"
      ],
      "metadata": {
        "colab": {
          "base_uri": "https://localhost:8080/"
        },
        "id": "9DhZMnmK4Nn3",
        "outputId": "b7c019fa-a3f4-4d15-a186-12d6f10dea2a"
      },
      "execution_count": 161,
      "outputs": [
        {
          "output_type": "stream",
          "name": "stdout",
          "text": [
            "[[0.3072877347589628 0.7142857142857143 0.3042025298845389 0.0\n",
            "  0.4832955167827243 1.0 0.0 0.0 0.0 0.0 0.0 0.0 0.0 NaT 1.0\n",
            "  'VE-DT-CH-XMD284' Timestamp('2025-05-23 00:00:00')\n",
            "  Timestamp('2025-05-20 00:00:00') Timestamp('2024-06-21 00:00:00')\n",
            "  Timestamp('2025-01-17 00:00:00') Timestamp('2025-08-15 00:00:00')\n",
            "  326580.0 0.5748 57.48 57.48]\n",
            " [0.2001257568521115 0.7142857142857143 0.19142722161947004\n",
            "  0.9999999999999999 0.05758547844456615 0.0 1.0 0.0 0.0 0.0 0.0 0.0 0.0\n",
            "  NaT 2.0 'VE-DT-FL-XMD588' Timestamp('2025-05-23 00:00:00')\n",
            "  Timestamp('2023-09-21 00:00:00') Timestamp('2023-07-11 00:00:00') NaT\n",
            "  NaT 209850.0 0.0307 nan nan]\n",
            " [0.41418105905372304 0.4285714285714287 0.41359931289472085 0.0\n",
            "  0.5007432908223143 0.0 1.0 0.0 0.0 0.0 0.0 0.0 0.0 NaT 3.0\n",
            "  'VE-DT-FL-SUE755' Timestamp('2025-05-23 00:00:00')\n",
            "  Timestamp('2025-05-20 00:00:00') Timestamp('2025-03-12 00:00:00')\n",
            "  Timestamp('2025-10-08 00:00:00') Timestamp('2026-05-06 00:00:00')\n",
            "  437813.0 0.746375 59.71 nan]\n",
            " [0.2580856070993884 0.7142857142857143 0.2530860321119309 0.0\n",
            "  0.3415225725686566 0.0 1.0 0.0 0.0 0.0 0.0 0.0 0.0\n",
            "  Timestamp('2025-05-23 17:24:11.232000') 4.0 'VE-DT-FL-WFD547'\n",
            "  Timestamp('2025-05-23 00:00:00') Timestamp('2025-05-20 00:00:00')\n",
            "  Timestamp('2025-01-30 00:00:00') Timestamp('2025-08-28 00:00:00')\n",
            "  Timestamp('2026-03-26 00:00:00') 273671.0 0.3936 39.36 nan]\n",
            " [0.2760622891213583 0.7142857142857143 0.27652509451079016 0.0\n",
            "  0.7790470229246537 0.0 1.0 0.0 0.0 0.0 0.0 0.0 0.0\n",
            "  Timestamp('2025-05-23 17:24:11.232000') 5.0 'VE-DT-IN-TAV909'\n",
            "  Timestamp('2025-05-23 00:00:00') Timestamp('2025-05-20 00:00:00')\n",
            "  Timestamp('2024-11-27 00:00:00') Timestamp('2025-06-25 00:00:00')\n",
            "  Timestamp('2026-01-21 00:00:00') 297932.0 0.9528 95.28 nan]\n",
            " [0.08175543469887686 1.0 0.07216247837096537 0.6095551894563427\n",
            "  0.17353884672560832 0.0 1.0 0.0 0.0 0.0 0.0 0.0 0.0\n",
            "  Timestamp('2025-05-23 17:24:11.232000') 6.0 'VE-DT-IN-TAW674'\n",
            "  Timestamp('2025-05-23 00:00:00') Timestamp('2024-05-15 00:00:00')\n",
            "  Timestamp('2024-01-03 00:00:00') NaT NaT 88403.0 0.1490833333 nan nan]\n",
            " [0.34292911396305487 1.0 0.34353524940897545 0.49258649093904444\n",
            "  0.929113527892966 0.0 1.0 0.0 0.0 0.0 0.0 0.0 0.0\n",
            "  Timestamp('2025-05-23 17:24:11.232000') 7.0 'VE-DT-IN-TAW675'\n",
            "  Timestamp('2025-05-23 00:00:00') Timestamp('2024-07-25 00:00:00')\n",
            "  Timestamp('2024-07-17 00:00:00') NaT NaT 369292.0 0.9538333333 nan\n",
            "  'PROBLEMAS CON POLIZA']\n",
            " [0.3603184171198792 1.0 0.36185773481330197 0.6507413509060955\n",
            "  0.9999999999999999 0.0 1.0 0.0 0.0 0.0 0.0 0.0 0.0\n",
            "  Timestamp('2025-05-23 17:24:11.232000') 8.0 'VE-DT-IN-TAW676'\n",
            "  Timestamp('2025-05-23 00:00:00') Timestamp('2024-04-20 00:00:00')\n",
            "  Timestamp('2024-06-06 00:00:00') NaT NaT 388257.0 1.029333333 nan nan]\n",
            " [0.4063236630871863 0.7142857142857143 0.40481050985105316\n",
            "  0.17957166392092258 0.5839136217823331 0.0 1.0 0.0 0.0 0.0 0.0 0.0 0.0\n",
            "  Timestamp('2025-05-23 17:24:11.232000') 9.0 'VE-DT-IN-TAW677'\n",
            "  Timestamp('2025-05-23 00:00:00') Timestamp('2025-01-31 00:00:00')\n",
            "  Timestamp('2024-10-16 00:00:00') Timestamp('2025-05-14 00:00:00')\n",
            "  Timestamp('2025-12-10 00:00:00') 430716.0 0.7034 70.34 nan]\n",
            " [0.36658026098879937 1.0 0.36168962975343627 0.49258649093904444\n",
            "  0.4775839136217823 0.0 1.0 0.0 0.0 0.0 0.0 0.0 0.0\n",
            "  Timestamp('2025-05-23 17:24:11.232000') 10.0 'VE-DT-IN-TAW678'\n",
            "  Timestamp('2025-05-23 00:00:00') Timestamp('2024-07-25 00:00:00')\n",
            "  Timestamp('2024-04-25 00:00:00') NaT NaT 388083.0 0.4729166667 nan nan]\n",
            " [0.366738179241068 0.7142857142857143 0.36217655475442656 0.0\n",
            "  0.3477036225647445 0.0 1.0 0.0 0.0 0.0 0.0 0.0 0.0\n",
            "  Timestamp('2025-05-23 17:24:11.232000') 11.0 'VE-DT-IN-TTR442'\n",
            "  Timestamp('2025-05-23 00:00:00') Timestamp('2025-05-20 00:00:00')\n",
            "  Timestamp('2025-02-17 00:00:00') Timestamp('2025-09-15 00:00:00')\n",
            "  Timestamp('2026-04-13 00:00:00') 386587.0 0.4015 40.15 nan]\n",
            " [0.14217072118569649 1.0 0.14269124607392564 0.6359143327841845\n",
            "  0.9762929348251309 0.0 1.0 0.0 0.0 0.0 0.0 0.0 0.0\n",
            "  Timestamp('2025-05-23 17:24:11.232000') 12.0 'VE-DT-IN-WFC325'\n",
            "  Timestamp('2025-05-23 00:00:00') Timestamp('2024-04-29 00:00:00')\n",
            "  Timestamp('2024-06-06 00:00:00') NaT NaT 161405.0 1.004083333 nan nan]\n",
            " [0.32694085383702837 1.0 0.3280348035441184 0.6079077429983525\n",
            "  0.9729285658399185 0.0 1.0 0.0 0.0 0.0 0.0 0.0 0.0\n",
            "  Timestamp('2025-05-23 17:24:11.232000') 13.0 'VE-DT-IN-WFC326'\n",
            "  Timestamp('2025-05-23 00:00:00') Timestamp('2024-05-16 00:00:00')\n",
            "  Timestamp('2024-05-21 00:00:00') NaT NaT 353248.0 1.0005 nan nan]\n",
            " [0.328166646124455 0.7142857142857143 0.32404665591695997 0.0\n",
            "  0.3938658946874266 0.0 1.0 0.0 0.0 0.0 0.0 0.0 0.0\n",
            "  Timestamp('2025-05-23 17:24:11.232000') 14.0 'VE-DT-IN-WFC327'\n",
            "  Timestamp('2025-05-23 00:00:00') Timestamp('2025-05-20 00:00:00')\n",
            "  Timestamp('2025-02-28 00:00:00') Timestamp('2025-09-26 00:00:00')\n",
            "  Timestamp('2026-04-24 00:00:00') 347120.0 0.4605 46.05 nan]\n",
            " [0.25486080083812224 0.7142857142857143 0.2553757389618257\n",
            "  0.39373970345963755 0.788983647601909 0.0 1.0 0.0 0.0 0.0 0.0 0.0 0.0\n",
            "  Timestamp('2025-05-23 17:24:11.232000') 15.0 'VE-DT-KW-TAX535'\n",
            "  Timestamp('2025-05-23 00:00:00') Timestamp('2024-09-23 00:00:00')\n",
            "  Timestamp('2024-09-16 00:00:00') Timestamp('2025-04-14 00:00:00')\n",
            "  Timestamp('2025-11-10 00:00:00') 276041.0 0.9655 nan nan]\n",
            " [0.2835528140262221 0.7142857142857143 0.2816822485887387\n",
            "  0.30642504118616143 0.5880604021594553 0.0 1.0 0.0 0.0 0.0 0.0 0.0 0.0\n",
            "  Timestamp('2025-05-23 17:24:11.232000') 16.0 'VE-DT-KW-TAX539'\n",
            "  Timestamp('2025-05-23 00:00:00') Timestamp('2024-11-15 00:00:00')\n",
            "  Timestamp('2024-08-02 00:00:00') Timestamp('2025-02-28 00:00:00')\n",
            "  Timestamp('2025-09-26 00:00:00') 303270.0 0.7087 nan nan]\n",
            " [0.2640008011462554 0.7142857142857143 0.2604961804404932\n",
            "  0.047775947281713346 0.46099679211329314 0.0 1.0 0.0 0.0 0.0 0.0 0.0\n",
            "  0.0 Timestamp('2025-05-23 17:24:11.232000') 17.0 'VE-DT-KW-TAX540'\n",
            "  Timestamp('2025-05-23 00:00:00') Timestamp('2025-04-21 00:00:00')\n",
            "  Timestamp('2025-02-03 00:00:00') Timestamp('2025-09-01 00:00:00')\n",
            "  Timestamp('2026-03-30 00:00:00') 281341.0 0.5463 54.63 nan]\n",
            " [0.2708403947185974 0.7142857142857143 0.26544368625412657\n",
            "  0.006589785831960461 0.3059228542367577 0.0 1.0 0.0 0.0 0.0 0.0 0.0 0.0\n",
            "  Timestamp('2025-05-23 17:24:11.232000') 18.0 'VE-DT-KW-TTS952'\n",
            "  Timestamp('2025-05-23 00:00:00') Timestamp('2025-05-16 00:00:00')\n",
            "  Timestamp('2025-01-23 00:00:00') Timestamp('2025-08-21 00:00:00')\n",
            "  Timestamp('2026-03-19 00:00:00') 286462.0 0.3481 34.81 nan]\n",
            " [0.27151828770394565 0.7142857142857143 0.27161043681230296 0.0\n",
            "  0.7502542837023706 0.0 1.0 0.0 0.0 0.0 0.0 0.0 0.0\n",
            "  Timestamp('2025-05-23 17:24:11.232000') 19.0 'VE-DT-FL-SOZ243'\n",
            "  Timestamp('2025-05-23 00:00:00') Timestamp('2025-05-20 00:00:00')\n",
            "  Timestamp('2024-07-05 00:00:00') Timestamp('2025-01-31 00:00:00')\n",
            "  Timestamp('2025-08-29 00:00:00') 292845.0 0.916 91.6 nan]\n",
            " [0.141893401328054 0.0 0.14021024725935616 0.0 0.2502151631327752 0.0\n",
            "  0.0 1.0 0.0 0.0 0.0 0.0 0.0 Timestamp('2025-05-23 17:24:11.232000')\n",
            "  20.0 'VE-GR-FO-WFG316' Timestamp('2025-05-23 00:00:00')\n",
            "  Timestamp('2025-05-20 00:00:00') Timestamp('2025-01-20 00:00:00')\n",
            "  Timestamp('2025-05-10 00:00:00') Timestamp('2025-12-06 00:00:00')\n",
            "  151837.0 0.5538 27.69 'trienergy']\n",
            " [0.0 0.0 0.0 0.13509060955518945 0.42477114466786636 0.0 0.0 0.0 1.0 0.0\n",
            "  0.0 0.0 0.0 Timestamp('2025-05-23 17:24:11.232000') 21.0\n",
            "  'VE-TB-MD-TBK246' Timestamp('2025-05-23 00:00:00')\n",
            "  Timestamp('2025-02-27 00:00:00') Timestamp('2025-02-27 00:00:00')\n",
            "  Timestamp('2025-06-17 00:00:00') Timestamp('2026-01-13 00:00:00')\n",
            "  6710.0 1.0 50.0 nan]\n",
            " [0.3748026021846642 0.4285714285714287 0.36790661860536567\n",
            "  0.39373970345963755 0.0 0.0 0.0 0.0 0.0 1.0 0.0 0.0 0.0 NaT 22.0\n",
            "  'VE-TM-FL-XMC858' Timestamp('2025-05-23 00:00:00')\n",
            "  Timestamp('2024-09-23 00:00:00') Timestamp('2024-01-09 00:00:00')\n",
            "  Timestamp('2024-08-06 00:00:00') Timestamp('2025-03-04 00:00:00')\n",
            "  390518.0 -0.053625 nan 'motoreste']\n",
            " [0.007538670713482367 1.0 0.007563761572922332 0.008237232289950576\n",
            "  0.9724591190047726 0.0 0.0 0.0 0.0 1.0 0.0 0.0 0.0 NaT 23.0\n",
            "  'VE-TM-HN-SRO974' Timestamp('2025-05-23 00:00:00')\n",
            "  Timestamp('2025-05-15 00:00:00') Timestamp('2025-05-15 00:00:00')\n",
            "  Timestamp('2025-12-11 00:00:00') Timestamp('2026-07-09 00:00:00')\n",
            "  21539.0 1.0 120.0 'la 61']\n",
            " [1.0000000000000002 1.0 1.0 0.06589785831960461 0.7029183944918237 0.0\n",
            "  0.0 0.0 0.0 1.0 0.0 0.0 0.0 NaT 24.0 'VE-TM-FL-SVO546'\n",
            "  Timestamp('2025-05-23 00:00:00') Timestamp('2025-04-10 00:00:00')\n",
            "  Timestamp('2025-02-28 00:00:00') Timestamp('2025-09-26 00:00:00')\n",
            "  Timestamp('2026-04-24 00:00:00') 1048777.0 0.7129166667 85.55 nan]\n",
            " [0.4939856255873789 0.1428571428571429 0.4932134827986981 0.0\n",
            "  0.30733119474219545 0.0 0.0 0.0 0.0 0.0 1.0 0.0 0.0\n",
            "  Timestamp('2025-05-23 17:24:11.232000') 25.0 'VE-TB-CH-SRL418'\n",
            "  Timestamp('2025-05-23 00:00:00') Timestamp('2025-05-20 00:00:00')\n",
            "  Timestamp('2025-04-16 00:00:00') Timestamp('2025-11-12 00:00:00')\n",
            "  Timestamp('2026-06-10 00:00:00') 518219.0 0.5831666667 34.99 nan]\n",
            " [0.2613383379296532 0.1428571428571429 0.2587397724012069\n",
            "  0.13344316309719934 0.222126594163211 0.0 0.0 0.0 0.0 0.0 1.0 0.0 0.0\n",
            "  Timestamp('2025-05-23 17:24:11.232000') 26.0 'VE-TB-CH-SUF310'\n",
            "  Timestamp('2025-05-23 00:00:00') Timestamp('2025-02-28 00:00:00')\n",
            "  Timestamp('2024-12-06 00:00:00') Timestamp('2025-07-04 00:00:00')\n",
            "  Timestamp('2026-01-30 00:00:00') 275523.0 0.4016666667 24.1 nan]\n",
            " [0.18521211117444963 0.2857142857142857 0.18512714635864153\n",
            "  0.642504118616145 0.5244503559971833 0.0 0.0 0.0 0.0 0.0 1.0 0.0 0.0\n",
            "  Timestamp('2025-05-23 17:24:11.232000') 27.0 'VE-TB-HY-WGA173'\n",
            "  Timestamp('2025-05-23 00:00:00') Timestamp('2024-04-25 00:00:00')\n",
            "  Timestamp('2024-02-02 00:00:00') NaT NaT 200329.0 0.8962857143 nan nan]\n",
            " [0.4021041644198623 0.2857142857142857 0.40311883192102543\n",
            "  0.7578253706754531 0.555042641420859 0.0 0.0 0.0 0.0 0.0 1.0 0.0 0.0\n",
            "  Timestamp('2025-05-23 17:24:11.232000') 28.0 'VE-TB-CH-SUF685'\n",
            "  Timestamp('2025-05-23 00:00:00') Timestamp('2024-02-15 00:00:00')\n",
            "  Timestamp('2022-09-23 00:00:00') NaT NaT 425965.0 0.9521428571 nan nan]\n",
            " [0.2989305852989662 0.1428571428571429 0.297479293610945 0.0\n",
            "  0.30490571942727485 0.0 0.0 0.0 0.0 0.0 1.0 0.0 0.0 NaT 29.0\n",
            "  'VE-TB-CH-TAX650' Timestamp('2025-05-23 00:00:00')\n",
            "  Timestamp('2025-05-20 00:00:00') Timestamp('2025-03-04 00:00:00')\n",
            "  Timestamp('2025-09-30 00:00:00') Timestamp('2026-04-28 00:00:00')\n",
            "  315621.0 0.578 34.68 nan]\n",
            " [0.06205705856070994 0.2857142857142857 0.05935074734292563\n",
            "  0.6672158154859967 0.34535638838901495 0.0 0.0 0.0 0.0 0.0 1.0 0.0 0.0\n",
            "  NaT 30.0 'VE-TB-FT-WOM542' Timestamp('2025-05-23 00:00:00')\n",
            "  Timestamp('2024-04-10 00:00:00') Timestamp('2024-02-05 00:00:00') NaT\n",
            "  NaT 70142.0 0.5692857143 nan nan]\n",
            " [0.2206801654675151 0.7142857142857143 0.2190428252470613 0.0\n",
            "  0.6238948439089272 0.0 0.0 0.0 0.0 0.0 0.0 1.0 0.0\n",
            "  Timestamp('2025-05-23 17:24:11.232000') 31.0 'VE-VS-CH-TAV332'\n",
            "  Timestamp('2025-05-23 00:00:00') Timestamp('2025-05-20 00:00:00')\n",
            "  Timestamp('2025-04-09 00:00:00') Timestamp('2025-11-05 00:00:00')\n",
            "  Timestamp('2026-06-03 00:00:00') 238434.0 0.7545 75.45 nan]\n",
            " [0.6328660622120882 1.0 0.6349724220750929 0.001647446457990115\n",
            "  0.9724591190047726 0.0 0.0 0.0 0.0 1.0 0.0 0.0 0.0\n",
            "  Timestamp('2025-05-23 17:24:11.232000') 32.0 'VE-TM-FL-WFL031'\n",
            "  Timestamp('2025-05-23 00:00:00') Timestamp('2025-05-19 00:00:00')\n",
            "  Timestamp('2025-04-15 00:00:00') Timestamp('2025-11-11 00:00:00') NaT\n",
            "  670949.0 1.0 120.0 nan]\n",
            " [nan nan nan nan nan 0.0 0.0 0.0 0.0 0.0 0.0 0.0 1.0\n",
            "  Timestamp('2025-05-23 17:24:11.232000') nan nan NaT NaT NaT NaT NaT nan\n",
            "  nan nan nan]\n",
            " [nan nan nan nan nan 0.0 0.0 0.0 0.0 0.0 0.0 0.0 1.0\n",
            "  Timestamp('2025-05-23 17:24:11.232000') nan nan NaT NaT NaT NaT NaT nan\n",
            "  nan nan nan]\n",
            " [nan nan nan nan nan 0.0 0.0 0.0 0.0 0.0 0.0 0.0 1.0\n",
            "  Timestamp('2025-05-23 17:24:11.232000') nan nan NaT NaT NaT NaT NaT nan\n",
            "  nan nan nan]\n",
            " [nan nan nan nan nan 0.0 0.0 0.0 0.0 0.0 0.0 0.0 1.0\n",
            "  Timestamp('2025-05-23 17:24:11.232000') nan nan NaT NaT NaT NaT NaT nan\n",
            "  nan nan nan]]\n"
          ]
        }
      ]
    },
    {
      "cell_type": "code",
      "source": [
        "# Get the column names after one-hot encoding\n",
        "# This requires knowing the categories in your categorical column\n",
        "# You can get the categories from the preprocessor\n",
        "ohe_categories = preprocessor.named_transformers_['cat'].categories_[0]\n",
        "ohe_column_names = [f'Tipo_Vehiculo_{cat}' for cat in ohe_categories]\n",
        "\n",
        "# Get the names of the columns that were passed through\n",
        "# You'll need to identify these columns from your original DataFrame\n",
        "# For this example, let's assume the original date columns and other columns are passed through\n",
        "passthrough_columns = [col for col in df.columns if col not in columnas_a_escalar +  columna_categorica]\n",
        "\n",
        "# Combine all the column names in the correct order\n",
        "all_processed_columns = columnas_a_escalar + ohe_column_names + passthrough_columns\n",
        "\n",
        "# Create a new DataFrame from the processed array with the combined column names\n",
        "df_procesado_df = pd.DataFrame(df_procesado, columns=all_processed_columns)\n",
        "\n",
        "# Display the new DataFrame\n",
        "print(df_procesado_df.head())"
      ],
      "metadata": {
        "colab": {
          "base_uri": "https://localhost:8080/"
        },
        "id": "JUdeLXOW4yL_",
        "outputId": "76e82379-3d70-4596-8755-c9e6e4b58007"
      },
      "execution_count": 188,
      "outputs": [
        {
          "output_type": "stream",
          "name": "stdout",
          "text": [
            "     Ult_Km   Km_Plan Km_Cambio Dias_Pend   Km_Pend  \\\n",
            "0  0.307288  0.714286  0.304203       0.0  0.483296   \n",
            "1  0.200126  0.714286  0.191427       1.0  0.057585   \n",
            "2  0.414181  0.428571  0.413599       0.0  0.500743   \n",
            "3  0.258086  0.714286  0.253086       0.0  0.341523   \n",
            "4  0.276062  0.714286  0.276525       0.0  0.779047   \n",
            "\n",
            "  Tipo_Vehiculo_CARRO TANQUE Tipo_Vehiculo_DOBLETROQUE Tipo_Vehiculo_GRUA  \\\n",
            "0                        1.0                       0.0                0.0   \n",
            "1                        0.0                       1.0                0.0   \n",
            "2                        0.0                       1.0                0.0   \n",
            "3                        0.0                       1.0                0.0   \n",
            "4                        0.0                       1.0                0.0   \n",
            "\n",
            "  Tipo_Vehiculo_IRRIGADOR Tipo_Vehiculo_TRACTOCAMION  ... CODIGO DE EQUIPO  \\\n",
            "0                     0.0                        0.0  ...  VE-DT-CH-XMD284   \n",
            "1                     0.0                        0.0  ...  VE-DT-FL-XMD588   \n",
            "2                     0.0                        0.0  ...  VE-DT-FL-SUE755   \n",
            "3                     0.0                        0.0  ...  VE-DT-FL-WFD547   \n",
            "4                     0.0                        0.0  ...  VE-DT-IN-TAV909   \n",
            "\n",
            "  fecha de revision Fecha Ult Pre-Operacional Fecha Cambio Fecha Prox Cambio  \\\n",
            "0        2025-05-23                2025-05-20   2024-06-21        2025-01-17   \n",
            "1        2025-05-23                2023-09-21   2023-07-11               NaT   \n",
            "2        2025-05-23                2025-05-20   2025-03-12        2025-10-08   \n",
            "3        2025-05-23                2025-05-20   2025-01-30        2025-08-28   \n",
            "4        2025-05-23                2025-05-20   2024-11-27        2025-06-25   \n",
            "\n",
            "  Unnamed: 12 Km/Hr Proyectada  Progreso Unnamed: 16 Observaciones   \n",
            "0  2025-08-15         326580.0    0.5748       57.48          57.48  \n",
            "1         NaT         209850.0    0.0307         NaN            NaN  \n",
            "2  2026-05-06         437813.0  0.746375       59.71            NaN  \n",
            "3  2026-03-26         273671.0    0.3936       39.36            NaN  \n",
            "4  2026-01-21         297932.0    0.9528       95.28            NaN  \n",
            "\n",
            "[5 rows x 25 columns]\n"
          ]
        }
      ]
    },
    {
      "cell_type": "code",
      "source": [
        "from sklearn.preprocessing import MinMaxScaler\n",
        "\n",
        "# Seleccionar solo las columnas numéricas a escalar\n",
        "columnas_a_escalar = ['Ult_Km', 'Km_Plan', 'Km_Cambio', 'Dias_Pend', 'Km_Pend']\n",
        "\n",
        "# Crear una instancia de MinMaxScaler\n",
        "scaler = MinMaxScaler()\n",
        "\n",
        "# Aplicar MinMaxScaler a las columnas seleccionadas\n",
        "df[columnas_a_escalar] = scaler.fit_transform(df[columnas_a_escalar])"
      ],
      "metadata": {
        "id": "opZnRItA0XgR"
      },
      "execution_count": 189,
      "outputs": []
    },
    {
      "cell_type": "markdown",
      "source": [
        "Codificación de variables"
      ],
      "metadata": {
        "id": "lg6XVEM1EAUr"
      }
    },
    {
      "cell_type": "code",
      "source": [
        "x = df.drop(columns=[\n",
        "    'Tipo_Vehiculo',\n",
        "    'Fecha Ult Pre-Operacional',\n",
        "    'Fecha',             # Add this\n",
        "    'CODIGO DE EQUIPO',  # Add this\n",
        "    'Fecha Cambio',      # Add this\n",
        "    'Fecha Prox Cambio', # Add this\n",
        "    'Unnamed: 12',       # Add this\n",
        "    'Observaciones '\n",
        "    # Make sure this is included to drop it\n",
        "         # Add this\n",
        "])\n",
        "y = df['Tipo_Vehiculo']\n"
      ],
      "metadata": {
        "id": "xmi15j1zD3Rg"
      },
      "execution_count": 190,
      "outputs": []
    },
    {
      "cell_type": "code",
      "source": [
        "print(x)"
      ],
      "metadata": {
        "id": "Zvm2OAuaMpS4",
        "outputId": "31cc34eb-5143-4190-8fdb-008c6f13a3c4",
        "colab": {
          "base_uri": "https://localhost:8080/"
        }
      },
      "execution_count": 166,
      "outputs": [
        {
          "output_type": "stream",
          "name": "stdout",
          "text": [
            "    ITEM fecha de revision   Km_Plan  Dias_Pend    Ult_Km  Km_Cambio  \\\n",
            "0    1.0        2025-05-23  0.714286   0.000000  0.307288   0.304203   \n",
            "1    2.0        2025-05-23  0.714286   1.000000  0.200126   0.191427   \n",
            "2    3.0        2025-05-23  0.428571   0.000000  0.414181   0.413599   \n",
            "3    4.0        2025-05-23  0.714286   0.000000  0.258086   0.253086   \n",
            "4    5.0        2025-05-23  0.714286   0.000000  0.276062   0.276525   \n",
            "5    6.0        2025-05-23  1.000000   0.609555  0.081755   0.072162   \n",
            "6    7.0        2025-05-23  1.000000   0.492586  0.342929   0.343535   \n",
            "7    8.0        2025-05-23  1.000000   0.650741  0.360318   0.361858   \n",
            "8    9.0        2025-05-23  0.714286   0.179572  0.406324   0.404811   \n",
            "9   10.0        2025-05-23  1.000000   0.492586  0.366580   0.361690   \n",
            "10  11.0        2025-05-23  0.714286   0.000000  0.366738   0.362177   \n",
            "11  12.0        2025-05-23  1.000000   0.635914  0.142171   0.142691   \n",
            "12  13.0        2025-05-23  1.000000   0.607908  0.326941   0.328035   \n",
            "13  14.0        2025-05-23  0.714286   0.000000  0.328167   0.324047   \n",
            "14  15.0        2025-05-23  0.714286   0.393740  0.254861   0.255376   \n",
            "15  16.0        2025-05-23  0.714286   0.306425  0.283553   0.281682   \n",
            "16  17.0        2025-05-23  0.714286   0.047776  0.264001   0.260496   \n",
            "17  18.0        2025-05-23  0.714286   0.006590  0.270840   0.265444   \n",
            "18  19.0        2025-05-23  0.714286   0.000000  0.271518   0.271610   \n",
            "19  20.0        2025-05-23  0.000000   0.000000  0.141893   0.140210   \n",
            "20  21.0        2025-05-23  0.000000   0.135091  0.000000   0.000000   \n",
            "21  22.0        2025-05-23  0.428571   0.393740  0.374803   0.367907   \n",
            "22  23.0        2025-05-23  1.000000   0.008237  0.007539   0.007564   \n",
            "23  24.0        2025-05-23  1.000000   0.065898  1.000000   1.000000   \n",
            "24  25.0        2025-05-23  0.142857   0.000000  0.493986   0.493213   \n",
            "25  26.0        2025-05-23  0.142857   0.133443  0.261338   0.258740   \n",
            "26  27.0        2025-05-23  0.285714   0.642504  0.185212   0.185127   \n",
            "27  28.0        2025-05-23  0.285714   0.757825  0.402104   0.403119   \n",
            "28  29.0        2025-05-23  0.142857   0.000000  0.298931   0.297479   \n",
            "29  30.0        2025-05-23  0.285714   0.667216  0.062057   0.059351   \n",
            "30  31.0        2025-05-23  0.714286   0.000000  0.220680   0.219043   \n",
            "31  32.0        2025-05-23  1.000000   0.001647  0.632866   0.634972   \n",
            "32   NaN               NaT       NaN        NaN       NaN        NaN   \n",
            "33   NaN               NaT       NaN        NaN       NaN        NaN   \n",
            "34   NaN               NaT       NaN        NaN       NaN        NaN   \n",
            "35   NaN               NaT       NaN        NaN       NaN        NaN   \n",
            "\n",
            "    Km/Hr Proyectada   Km_Pend  Progreso  Unnamed: 16  \n",
            "0           326580.0  0.483296  0.574800        57.48  \n",
            "1           209850.0  0.057585  0.030700          NaN  \n",
            "2           437813.0  0.500743  0.746375        59.71  \n",
            "3           273671.0  0.341523  0.393600        39.36  \n",
            "4           297932.0  0.779047  0.952800        95.28  \n",
            "5            88403.0  0.173539  0.149083          NaN  \n",
            "6           369292.0  0.929114  0.953833          NaN  \n",
            "7           388257.0  1.000000  1.029333          NaN  \n",
            "8           430716.0  0.583914  0.703400        70.34  \n",
            "9           388083.0  0.477584  0.472917          NaN  \n",
            "10          386587.0  0.347704  0.401500        40.15  \n",
            "11          161405.0  0.976293  1.004083          NaN  \n",
            "12          353248.0  0.972929  1.000500          NaN  \n",
            "13          347120.0  0.393866  0.460500        46.05  \n",
            "14          276041.0  0.788984  0.965500          NaN  \n",
            "15          303270.0  0.588060  0.708700          NaN  \n",
            "16          281341.0  0.460997  0.546300        54.63  \n",
            "17          286462.0  0.305923  0.348100        34.81  \n",
            "18          292845.0  0.750254  0.916000        91.60  \n",
            "19          151837.0  0.250215  0.553800        27.69  \n",
            "20            6710.0  0.424771  1.000000        50.00  \n",
            "21          390518.0  0.000000 -0.053625          NaN  \n",
            "22           21539.0  0.972459  1.000000       120.00  \n",
            "23         1048777.0  0.702918  0.712917        85.55  \n",
            "24          518219.0  0.307331  0.583167        34.99  \n",
            "25          275523.0  0.222127  0.401667        24.10  \n",
            "26          200329.0  0.524450  0.896286          NaN  \n",
            "27          425965.0  0.555043  0.952143          NaN  \n",
            "28          315621.0  0.304906  0.578000        34.68  \n",
            "29           70142.0  0.345356  0.569286          NaN  \n",
            "30          238434.0  0.623895  0.754500        75.45  \n",
            "31          670949.0  0.972459  1.000000       120.00  \n",
            "32               NaN       NaN       NaN          NaN  \n",
            "33               NaN       NaN       NaN          NaN  \n",
            "34               NaN       NaN       NaN          NaN  \n",
            "35               NaN       NaN       NaN          NaN  \n"
          ]
        }
      ]
    },
    {
      "cell_type": "code",
      "source": [
        "print(df.columns)"
      ],
      "metadata": {
        "id": "yN-lynH3KMUT",
        "outputId": "f75117ed-d713-4626-b165-27e0b161dd7f",
        "colab": {
          "base_uri": "https://localhost:8080/"
        }
      },
      "execution_count": 191,
      "outputs": [
        {
          "output_type": "stream",
          "name": "stdout",
          "text": [
            "Index(['Fecha', 'ITEM', 'CODIGO DE EQUIPO', 'Tipo_Vehiculo',\n",
            "       'fecha de revision', 'Km_Plan', 'Fecha Ult Pre-Operacional',\n",
            "       'Dias_Pend', 'Ult_Km', 'Km_Cambio', 'Fecha Cambio', 'Fecha Prox Cambio',\n",
            "       'Unnamed: 12', 'Km/Hr Proyectada', 'Km_Pend', 'Progreso', 'Unnamed: 16',\n",
            "       'Observaciones '],\n",
            "      dtype='object')\n"
          ]
        }
      ]
    },
    {
      "cell_type": "markdown",
      "source": [
        "División de los datos"
      ],
      "metadata": {
        "id": "hqKkV_gaEVEc"
      }
    },
    {
      "cell_type": "code",
      "source": [
        "from sklearn.model_selection import train_test_split\n",
        "\n",
        "x_train, x_test, y_train, y_test = train_test_split(x, y, test_size=0.2, random_state=42)"
      ],
      "metadata": {
        "id": "X2iXWabPEME9"
      },
      "execution_count": 192,
      "outputs": []
    },
    {
      "cell_type": "code",
      "source": [
        "print(x_train.dtypes)"
      ],
      "metadata": {
        "id": "6TU7kJe0HFLq",
        "outputId": "790a4ee8-f35a-4c61-e84a-d2c3d887ccba",
        "colab": {
          "base_uri": "https://localhost:8080/"
        }
      },
      "execution_count": 193,
      "outputs": [
        {
          "output_type": "stream",
          "name": "stdout",
          "text": [
            "ITEM                        float64\n",
            "fecha de revision    datetime64[ns]\n",
            "Km_Plan                     float64\n",
            "Dias_Pend                   float64\n",
            "Ult_Km                      float64\n",
            "Km_Cambio                   float64\n",
            "Km/Hr Proyectada            float64\n",
            "Km_Pend                     float64\n",
            "Progreso                    float64\n",
            "Unnamed: 16                 float64\n",
            "dtype: object\n"
          ]
        }
      ]
    },
    {
      "cell_type": "code",
      "source": [
        "from sklearn.neighbors import KNeighborsClassifier\n",
        "\n",
        "from sklearn.preprocessing import LabelEncoder\n",
        "\n",
        "# Create a LabelEncoder instance\n",
        "label_encoder = LabelEncoder()\n",
        "\n",
        "# Fit the encoder to your target variable and transform it\n",
        "y_encoded = label_encoder.fit_transform(y)\n",
        "\n",
        "# Now use y_encoded when splitting your data and fitting the model\n",
        "x_train, x_test, y_train_encoded, y_test_encoded = train_test_split(x, y_encoded, test_size=0.2, random_state=42)\n",
        "\n",
        "# Fit the KNN model with the encoded target variable\n",
        "knn = KNeighborsClassifier(n_neighbors=3)\n",
        "knn.fit(x_train, y_train_encoded)"
      ],
      "metadata": {
        "id": "ow2mU7yHEb4v",
        "outputId": "c1a8a834-dd85-4975-bd39-763ce646d326",
        "colab": {
          "base_uri": "https://localhost:8080/",
          "height": 425
        }
      },
      "execution_count": 194,
      "outputs": [
        {
          "output_type": "error",
          "ename": "DTypePromotionError",
          "evalue": "The DType <class 'numpy.dtypes.DateTime64DType'> could not be promoted by <class 'numpy.dtypes.Float64DType'>. This means that no common DType exists for the given inputs. For example they cannot be stored in a single array unless the dtype is `object`. The full list of DTypes is: (<class 'numpy.dtypes.Float64DType'>, <class 'numpy.dtypes.DateTime64DType'>, <class 'numpy.dtypes.Float64DType'>, <class 'numpy.dtypes.Float64DType'>, <class 'numpy.dtypes.Float64DType'>, <class 'numpy.dtypes.Float64DType'>, <class 'numpy.dtypes.Float64DType'>, <class 'numpy.dtypes.Float64DType'>, <class 'numpy.dtypes.Float64DType'>, <class 'numpy.dtypes.Float64DType'>)",
          "traceback": [
            "\u001b[0;31m---------------------------------------------------------------------------\u001b[0m",
            "\u001b[0;31mDTypePromotionError\u001b[0m                       Traceback (most recent call last)",
            "\u001b[0;32m<ipython-input-194-5c488b1d608a>\u001b[0m in \u001b[0;36m<cell line: 0>\u001b[0;34m()\u001b[0m\n\u001b[1;32m     14\u001b[0m \u001b[0;31m# Fit the KNN model with the encoded target variable\u001b[0m\u001b[0;34m\u001b[0m\u001b[0;34m\u001b[0m\u001b[0m\n\u001b[1;32m     15\u001b[0m \u001b[0mknn\u001b[0m \u001b[0;34m=\u001b[0m \u001b[0mKNeighborsClassifier\u001b[0m\u001b[0;34m(\u001b[0m\u001b[0mn_neighbors\u001b[0m\u001b[0;34m=\u001b[0m\u001b[0;36m3\u001b[0m\u001b[0;34m)\u001b[0m\u001b[0;34m\u001b[0m\u001b[0;34m\u001b[0m\u001b[0m\n\u001b[0;32m---> 16\u001b[0;31m \u001b[0mknn\u001b[0m\u001b[0;34m.\u001b[0m\u001b[0mfit\u001b[0m\u001b[0;34m(\u001b[0m\u001b[0mx_train\u001b[0m\u001b[0;34m,\u001b[0m \u001b[0my_train_encoded\u001b[0m\u001b[0;34m)\u001b[0m\u001b[0;34m\u001b[0m\u001b[0;34m\u001b[0m\u001b[0m\n\u001b[0m",
            "\u001b[0;32m/usr/local/lib/python3.11/dist-packages/sklearn/base.py\u001b[0m in \u001b[0;36mwrapper\u001b[0;34m(estimator, *args, **kwargs)\u001b[0m\n\u001b[1;32m   1387\u001b[0m                 )\n\u001b[1;32m   1388\u001b[0m             ):\n\u001b[0;32m-> 1389\u001b[0;31m                 \u001b[0;32mreturn\u001b[0m \u001b[0mfit_method\u001b[0m\u001b[0;34m(\u001b[0m\u001b[0mestimator\u001b[0m\u001b[0;34m,\u001b[0m \u001b[0;34m*\u001b[0m\u001b[0margs\u001b[0m\u001b[0;34m,\u001b[0m \u001b[0;34m**\u001b[0m\u001b[0mkwargs\u001b[0m\u001b[0;34m)\u001b[0m\u001b[0;34m\u001b[0m\u001b[0;34m\u001b[0m\u001b[0m\n\u001b[0m\u001b[1;32m   1390\u001b[0m \u001b[0;34m\u001b[0m\u001b[0m\n\u001b[1;32m   1391\u001b[0m         \u001b[0;32mreturn\u001b[0m \u001b[0mwrapper\u001b[0m\u001b[0;34m\u001b[0m\u001b[0;34m\u001b[0m\u001b[0m\n",
            "\u001b[0;32m/usr/local/lib/python3.11/dist-packages/sklearn/neighbors/_classification.py\u001b[0m in \u001b[0;36mfit\u001b[0;34m(self, X, y)\u001b[0m\n\u001b[1;32m    237\u001b[0m             \u001b[0mThe\u001b[0m \u001b[0mfitted\u001b[0m \u001b[0mk\u001b[0m\u001b[0;34m-\u001b[0m\u001b[0mnearest\u001b[0m \u001b[0mneighbors\u001b[0m \u001b[0mclassifier\u001b[0m\u001b[0;34m.\u001b[0m\u001b[0;34m\u001b[0m\u001b[0;34m\u001b[0m\u001b[0m\n\u001b[1;32m    238\u001b[0m         \"\"\"\n\u001b[0;32m--> 239\u001b[0;31m         \u001b[0;32mreturn\u001b[0m \u001b[0mself\u001b[0m\u001b[0;34m.\u001b[0m\u001b[0m_fit\u001b[0m\u001b[0;34m(\u001b[0m\u001b[0mX\u001b[0m\u001b[0;34m,\u001b[0m \u001b[0my\u001b[0m\u001b[0;34m)\u001b[0m\u001b[0;34m\u001b[0m\u001b[0;34m\u001b[0m\u001b[0m\n\u001b[0m\u001b[1;32m    240\u001b[0m \u001b[0;34m\u001b[0m\u001b[0m\n\u001b[1;32m    241\u001b[0m     \u001b[0;32mdef\u001b[0m \u001b[0mpredict\u001b[0m\u001b[0;34m(\u001b[0m\u001b[0mself\u001b[0m\u001b[0;34m,\u001b[0m \u001b[0mX\u001b[0m\u001b[0;34m)\u001b[0m\u001b[0;34m:\u001b[0m\u001b[0;34m\u001b[0m\u001b[0;34m\u001b[0m\u001b[0m\n",
            "\u001b[0;32m/usr/local/lib/python3.11/dist-packages/sklearn/neighbors/_base.py\u001b[0m in \u001b[0;36m_fit\u001b[0;34m(self, X, y)\u001b[0m\n\u001b[1;32m    476\u001b[0m         \u001b[0;32mif\u001b[0m \u001b[0mself\u001b[0m\u001b[0;34m.\u001b[0m\u001b[0m__sklearn_tags__\u001b[0m\u001b[0;34m(\u001b[0m\u001b[0;34m)\u001b[0m\u001b[0;34m.\u001b[0m\u001b[0mtarget_tags\u001b[0m\u001b[0;34m.\u001b[0m\u001b[0mrequired\u001b[0m\u001b[0;34m:\u001b[0m\u001b[0;34m\u001b[0m\u001b[0;34m\u001b[0m\u001b[0m\n\u001b[1;32m    477\u001b[0m             \u001b[0;32mif\u001b[0m \u001b[0;32mnot\u001b[0m \u001b[0misinstance\u001b[0m\u001b[0;34m(\u001b[0m\u001b[0mX\u001b[0m\u001b[0;34m,\u001b[0m \u001b[0;34m(\u001b[0m\u001b[0mKDTree\u001b[0m\u001b[0;34m,\u001b[0m \u001b[0mBallTree\u001b[0m\u001b[0;34m,\u001b[0m \u001b[0mNeighborsBase\u001b[0m\u001b[0;34m)\u001b[0m\u001b[0;34m)\u001b[0m\u001b[0;34m:\u001b[0m\u001b[0;34m\u001b[0m\u001b[0;34m\u001b[0m\u001b[0m\n\u001b[0;32m--> 478\u001b[0;31m                 X, y = validate_data(\n\u001b[0m\u001b[1;32m    479\u001b[0m                     \u001b[0mself\u001b[0m\u001b[0;34m,\u001b[0m\u001b[0;34m\u001b[0m\u001b[0;34m\u001b[0m\u001b[0m\n\u001b[1;32m    480\u001b[0m                     \u001b[0mX\u001b[0m\u001b[0;34m,\u001b[0m\u001b[0;34m\u001b[0m\u001b[0;34m\u001b[0m\u001b[0m\n",
            "\u001b[0;32m/usr/local/lib/python3.11/dist-packages/sklearn/utils/validation.py\u001b[0m in \u001b[0;36mvalidate_data\u001b[0;34m(_estimator, X, y, reset, validate_separately, skip_check_array, **check_params)\u001b[0m\n\u001b[1;32m   2959\u001b[0m             \u001b[0my\u001b[0m \u001b[0;34m=\u001b[0m \u001b[0mcheck_array\u001b[0m\u001b[0;34m(\u001b[0m\u001b[0my\u001b[0m\u001b[0;34m,\u001b[0m \u001b[0minput_name\u001b[0m\u001b[0;34m=\u001b[0m\u001b[0;34m\"y\"\u001b[0m\u001b[0;34m,\u001b[0m \u001b[0;34m**\u001b[0m\u001b[0mcheck_y_params\u001b[0m\u001b[0;34m)\u001b[0m\u001b[0;34m\u001b[0m\u001b[0;34m\u001b[0m\u001b[0m\n\u001b[1;32m   2960\u001b[0m         \u001b[0;32melse\u001b[0m\u001b[0;34m:\u001b[0m\u001b[0;34m\u001b[0m\u001b[0;34m\u001b[0m\u001b[0m\n\u001b[0;32m-> 2961\u001b[0;31m             \u001b[0mX\u001b[0m\u001b[0;34m,\u001b[0m \u001b[0my\u001b[0m \u001b[0;34m=\u001b[0m \u001b[0mcheck_X_y\u001b[0m\u001b[0;34m(\u001b[0m\u001b[0mX\u001b[0m\u001b[0;34m,\u001b[0m \u001b[0my\u001b[0m\u001b[0;34m,\u001b[0m \u001b[0;34m**\u001b[0m\u001b[0mcheck_params\u001b[0m\u001b[0;34m)\u001b[0m\u001b[0;34m\u001b[0m\u001b[0;34m\u001b[0m\u001b[0m\n\u001b[0m\u001b[1;32m   2962\u001b[0m         \u001b[0mout\u001b[0m \u001b[0;34m=\u001b[0m \u001b[0mX\u001b[0m\u001b[0;34m,\u001b[0m \u001b[0my\u001b[0m\u001b[0;34m\u001b[0m\u001b[0;34m\u001b[0m\u001b[0m\n\u001b[1;32m   2963\u001b[0m \u001b[0;34m\u001b[0m\u001b[0m\n",
            "\u001b[0;32m/usr/local/lib/python3.11/dist-packages/sklearn/utils/validation.py\u001b[0m in \u001b[0;36mcheck_X_y\u001b[0;34m(X, y, accept_sparse, accept_large_sparse, dtype, order, copy, force_writeable, force_all_finite, ensure_all_finite, ensure_2d, allow_nd, multi_output, ensure_min_samples, ensure_min_features, y_numeric, estimator)\u001b[0m\n\u001b[1;32m   1368\u001b[0m     \u001b[0mensure_all_finite\u001b[0m \u001b[0;34m=\u001b[0m \u001b[0m_deprecate_force_all_finite\u001b[0m\u001b[0;34m(\u001b[0m\u001b[0mforce_all_finite\u001b[0m\u001b[0;34m,\u001b[0m \u001b[0mensure_all_finite\u001b[0m\u001b[0;34m)\u001b[0m\u001b[0;34m\u001b[0m\u001b[0;34m\u001b[0m\u001b[0m\n\u001b[1;32m   1369\u001b[0m \u001b[0;34m\u001b[0m\u001b[0m\n\u001b[0;32m-> 1370\u001b[0;31m     X = check_array(\n\u001b[0m\u001b[1;32m   1371\u001b[0m         \u001b[0mX\u001b[0m\u001b[0;34m,\u001b[0m\u001b[0;34m\u001b[0m\u001b[0;34m\u001b[0m\u001b[0m\n\u001b[1;32m   1372\u001b[0m         \u001b[0maccept_sparse\u001b[0m\u001b[0;34m=\u001b[0m\u001b[0maccept_sparse\u001b[0m\u001b[0;34m,\u001b[0m\u001b[0;34m\u001b[0m\u001b[0;34m\u001b[0m\u001b[0m\n",
            "\u001b[0;32m/usr/local/lib/python3.11/dist-packages/sklearn/utils/validation.py\u001b[0m in \u001b[0;36mcheck_array\u001b[0;34m(array, accept_sparse, accept_large_sparse, dtype, order, copy, force_writeable, force_all_finite, ensure_all_finite, ensure_non_negative, ensure_2d, allow_nd, ensure_min_samples, ensure_min_features, estimator, input_name)\u001b[0m\n\u001b[1;32m    929\u001b[0m         )\n\u001b[1;32m    930\u001b[0m         \u001b[0;32mif\u001b[0m \u001b[0mall\u001b[0m\u001b[0;34m(\u001b[0m\u001b[0misinstance\u001b[0m\u001b[0;34m(\u001b[0m\u001b[0mdtype_iter\u001b[0m\u001b[0;34m,\u001b[0m \u001b[0mnp\u001b[0m\u001b[0;34m.\u001b[0m\u001b[0mdtype\u001b[0m\u001b[0;34m)\u001b[0m \u001b[0;32mfor\u001b[0m \u001b[0mdtype_iter\u001b[0m \u001b[0;32min\u001b[0m \u001b[0mdtypes_orig\u001b[0m\u001b[0;34m)\u001b[0m\u001b[0;34m:\u001b[0m\u001b[0;34m\u001b[0m\u001b[0;34m\u001b[0m\u001b[0m\n\u001b[0;32m--> 931\u001b[0;31m             \u001b[0mdtype_orig\u001b[0m \u001b[0;34m=\u001b[0m \u001b[0mnp\u001b[0m\u001b[0;34m.\u001b[0m\u001b[0mresult_type\u001b[0m\u001b[0;34m(\u001b[0m\u001b[0;34m*\u001b[0m\u001b[0mdtypes_orig\u001b[0m\u001b[0;34m)\u001b[0m\u001b[0;34m\u001b[0m\u001b[0;34m\u001b[0m\u001b[0m\n\u001b[0m\u001b[1;32m    932\u001b[0m         \u001b[0;32melif\u001b[0m \u001b[0mpandas_requires_conversion\u001b[0m \u001b[0;32mand\u001b[0m \u001b[0many\u001b[0m\u001b[0;34m(\u001b[0m\u001b[0md\u001b[0m \u001b[0;34m==\u001b[0m \u001b[0mobject\u001b[0m \u001b[0;32mfor\u001b[0m \u001b[0md\u001b[0m \u001b[0;32min\u001b[0m \u001b[0mdtypes_orig\u001b[0m\u001b[0;34m)\u001b[0m\u001b[0;34m:\u001b[0m\u001b[0;34m\u001b[0m\u001b[0;34m\u001b[0m\u001b[0m\n\u001b[1;32m    933\u001b[0m             \u001b[0;31m# Force object if any of the dtypes is an object\u001b[0m\u001b[0;34m\u001b[0m\u001b[0;34m\u001b[0m\u001b[0m\n",
            "\u001b[0;31mDTypePromotionError\u001b[0m: The DType <class 'numpy.dtypes.DateTime64DType'> could not be promoted by <class 'numpy.dtypes.Float64DType'>. This means that no common DType exists for the given inputs. For example they cannot be stored in a single array unless the dtype is `object`. The full list of DTypes is: (<class 'numpy.dtypes.Float64DType'>, <class 'numpy.dtypes.DateTime64DType'>, <class 'numpy.dtypes.Float64DType'>, <class 'numpy.dtypes.Float64DType'>, <class 'numpy.dtypes.Float64DType'>, <class 'numpy.dtypes.Float64DType'>, <class 'numpy.dtypes.Float64DType'>, <class 'numpy.dtypes.Float64DType'>, <class 'numpy.dtypes.Float64DType'>, <class 'numpy.dtypes.Float64DType'>)"
          ]
        }
      ]
    }
  ]
}