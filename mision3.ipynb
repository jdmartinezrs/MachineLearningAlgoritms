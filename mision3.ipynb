{
  "nbformat": 4,
  "nbformat_minor": 0,
  "metadata": {
    "colab": {
      "provenance": [],
      "authorship_tag": "ABX9TyP/X6cjSMOCsEV9/+/H9NRs",
      "include_colab_link": true
    },
    "kernelspec": {
      "name": "python3",
      "display_name": "Python 3"
    },
    "language_info": {
      "name": "python"
    }
  },
  "cells": [
    {
      "cell_type": "markdown",
      "metadata": {
        "id": "view-in-github",
        "colab_type": "text"
      },
      "source": [
        "<a href=\"https://colab.research.google.com/github/jdmartinezrs/MachineLearningAlgoritms/blob/main/mision3.ipynb\" target=\"_parent\"><img src=\"https://colab.research.google.com/assets/colab-badge.svg\" alt=\"Open In Colab\"/></a>"
      ]
    },
    {
      "cell_type": "code",
      "source": [
        "from google.colab import drive\n",
        "drive.mount('/content/drive')\n",
        "import pandas as pd"
      ],
      "metadata": {
        "id": "yco6tH5FmvGj",
        "outputId": "f9bd6acb-ba58-4a6b-cc33-1136d875a7e1",
        "colab": {
          "base_uri": "https://localhost:8080/"
        }
      },
      "execution_count": 5,
      "outputs": [
        {
          "output_type": "stream",
          "name": "stdout",
          "text": [
            "Drive already mounted at /content/drive; to attempt to forcibly remount, call drive.mount(\"/content/drive\", force_remount=True).\n"
          ]
        }
      ]
    },
    {
      "cell_type": "code",
      "source": [
        "sheet_id = '1Te2gVFrIhMKCPS5WDFTz7XuLQBBG_8CJ'\n",
        "sheet_url = f'https://drive.google.com/uc?id={sheet_id}&export=download'\n",
        "df = pd.read_excel(sheet_url, header=5)"
      ],
      "metadata": {
        "id": "Deb9skpQnmKg"
      },
      "execution_count": 32,
      "outputs": []
    },
    {
      "cell_type": "markdown",
      "source": [
        "Limpieza de datos"
      ],
      "metadata": {
        "id": "lbh8jY2AzPzD"
      }
    },
    {
      "cell_type": "code",
      "source": [
        "df.rename(columns={\n",
        "    'Ult Km/Hr': 'Ult_Km',\n",
        "    'Km/ Hr Plan': 'Km_Plan',\n",
        "    'Km/Hr Cambio': 'Km_Cambio',\n",
        "    'Dias Pend': 'Dias_Pend',\n",
        "    'Tipo de Vehiculo': 'Tipo_Vehiculo',\n",
        "    'Km/Hr Pend': 'Km_Pend',\n",
        "    'fecha de revision': 'fecha_revision'\n",
        "}, inplace=True)"
      ],
      "metadata": {
        "id": "ezGMH9k_tkiN"
      },
      "execution_count": 35,
      "outputs": []
    },
    {
      "cell_type": "code",
      "source": [
        "# Lista de columnas numéricas en las que queremos corregir el formato\n",
        "columnas_numericas = ['Ult_Km', 'Km_Plan', 'Km_Cambio', 'Dias_Pend', 'Km_Pend']\n",
        "\n",
        "# Reemplazar comas por puntos en las columnas numéricas y convertir a tipo float\n",
        "for col in columnas_numericas:\n",
        "    df[col] = df[col].astype(str).str.replace(',', '.').astype(float)"
      ],
      "metadata": {
        "id": "Sq3FMtPBy_FI"
      },
      "execution_count": 31,
      "outputs": []
    },
    {
      "cell_type": "code",
      "source": [
        "# Eliminar filas con valores faltantes (NaN)\n",
        "df_sin_nulos = df.dropna()\n",
        "print(\"\\nSin nulos:\\n\", df_sin_nulos)\n",
        "# Rellenar valores faltantes con la media de cada columna numérica\n",
        "df_filled = df.copy()   #Crea una copia independiente del DataFrame original (df) y la guarda como df_filled.\n",
        "df_filled['Ult_Km'] = df_filled['Ult_Km'].fillna(df['Ult_Km'].mean())\n",
        "df_filled['Km_Plan'] = df_filled['Km_Plan'].fillna(df['Km_Plan'].mean())\n",
        "df_filled['Km_Cambio'] = df_filled['Km_Cambio'].fillna(df['Km_Cambio'].mean())\n",
        "df_filled['Dias_Pend'] = df_filled['Dias_Pend'].fillna(df['Dias_Pend'].mean())\n",
        "df_filled['Km_Pend'] = df_filled['Km_Pend'].fillna(df['Km_Pend'].mean())"
      ],
      "metadata": {
        "id": "0xPg2StntGSo",
        "outputId": "d10d0d13-213d-4056-afb2-2541e3da6774",
        "colab": {
          "base_uri": "https://localhost:8080/"
        }
      },
      "execution_count": 39,
      "outputs": [
        {
          "output_type": "stream",
          "name": "stdout",
          "text": [
            "\n",
            "Sin nulos:\n",
            "                      Fecha  ITEM CODIGO DE EQUIPO Tipo_Vehiculo  \\\n",
            "19 2025-05-23 17:24:11.232  20.0  VE-GR-FO-WFG316          GRUA   \n",
            "\n",
            "   fecha_revision  Km_Plan Fecha Ult Pre-Operacional  Dias_Pend    Ult_Km  \\\n",
            "19     2025-05-23   5000.0                2025-05-20        3.0  149068.0   \n",
            "\n",
            "    Km_Cambio Fecha Cambio Fecha Prox Cambio Unnamed: 12  Km/Hr Proyectada  \\\n",
            "19   146837.0   2025-01-20        2025-05-10  2025-12-06          151837.0   \n",
            "\n",
            "    Km_Pend  Progreso  Unnamed: 16 Observaciones   \n",
            "19   2769.0    0.5538        27.69      trienergy  \n"
          ]
        }
      ]
    },
    {
      "cell_type": "code",
      "source": [
        "from sklearn.preprocessing import MinMaxScaler, OneHotEncoder\n",
        "from sklearn.compose import ColumnTransformer\n",
        "from sklearn.pipeline import Pipeline\n",
        "\n",
        "# Supongamos que 'df' es tu DataFrame actual\n",
        "\n",
        "# Columnas numéricas a escalar\n",
        "columnas_a_escalar = ['Ult_Km', 'Km_Plan', 'Km_Cambio', 'Dias_Pend', 'Km_Pend']\n",
        "\n",
        "# Columna categórica a aplicar One-Hot Encoding\n",
        "columna_categorica = ['Tipo_Vehiculo']\n",
        "\n",
        "# Columna de fecha (si quieres extraer características numéricas)\n",
        "# Para este ejemplo, vamos a convertirla a datetime y luego extraer el año\n",
        "df['fecha_revision'] = pd.to_datetime(df['fecha_revision'], format='%d/%m/%Y')\n",
        "df['año_revision'] = df['fecha_revision'].dt.year\n",
        "columnas_fecha_num = ['año_revision'] # Agregamos el año como columna numérica\n",
        "\n",
        "# Definir el preprocesamiento para cada tipo de columna\n",
        "preprocessor = ColumnTransformer(\n",
        "    transformers=[\n",
        "        ('num', MinMaxScaler(), columnas_a_escalar + columnas_fecha_num), # Escalar columnas numéricas y la columna numérica extraída de la fecha\n",
        "        ('cat', OneHotEncoder(), columna_categorica) # Aplicar One-Hot Encoding a la columna categórica\n",
        "    ],\n",
        "    remainder='passthrough' # Mantener las columnas no especificadas (como la columna original de fecha si no la quieres eliminar)\n",
        ")\n",
        "\n",
        "# Crear un pipeline para aplicar el preprocesamiento\n",
        "pipeline = Pipeline(steps=[('preprocessor', preprocessor)])\n",
        "\n",
        "# Aplicar el preprocesamiento al DataFrame\n",
        "df_procesado = pipeline.fit_transform(df)\n",
        "\n",
        "# 'df_procesado' es ahora un array NumPy con tus datos transformados\n",
        "# Si quieres convertirlo de vuelta a un DataFrame, necesitarías manejar los nombres de las columnas\n",
        "# generadas por OneHotEncoder, lo cual puede ser más complejo.\n",
        "# Para empezar, puedes trabajar con el array NumPy."
      ],
      "metadata": {
        "id": "sKsbw6bb3M5_"
      },
      "execution_count": 40,
      "outputs": []
    },
    {
      "cell_type": "code",
      "source": [
        "print(df_procesado)"
      ],
      "metadata": {
        "id": "9DhZMnmK4Nn3",
        "outputId": "9188dd44-728a-48b8-9202-cd13e2e6b211",
        "colab": {
          "base_uri": "https://localhost:8080/"
        }
      },
      "execution_count": 41,
      "outputs": [
        {
          "output_type": "stream",
          "name": "stdout",
          "text": [
            "[[0.3072877347589628 0.7142857142857143 0.3042025298845389 0.0\n",
            "  0.4832955167827243 0.0 1.0 0.0 0.0 0.0 0.0 0.0 0.0 0.0 NaT 1.0\n",
            "  'VE-DT-CH-XMD284' Timestamp('2025-05-23 00:00:00')\n",
            "  Timestamp('2025-05-20 00:00:00') Timestamp('2024-06-21 00:00:00')\n",
            "  Timestamp('2025-01-17 00:00:00') Timestamp('2025-08-15 00:00:00')\n",
            "  326580.0 0.5748 57.48 57.48]\n",
            " [0.2001257568521115 0.7142857142857143 0.19142722161947004\n",
            "  0.9999999999999999 0.05758547844456615 0.0 0.0 1.0 0.0 0.0 0.0 0.0 0.0\n",
            "  0.0 NaT 2.0 'VE-DT-FL-XMD588' Timestamp('2025-05-23 00:00:00')\n",
            "  Timestamp('2023-09-21 00:00:00') Timestamp('2023-07-11 00:00:00') NaT\n",
            "  NaT 209850.0 0.0307 nan nan]\n",
            " [0.41418105905372304 0.4285714285714287 0.41359931289472085 0.0\n",
            "  0.5007432908223143 0.0 0.0 1.0 0.0 0.0 0.0 0.0 0.0 0.0 NaT 3.0\n",
            "  'VE-DT-FL-SUE755' Timestamp('2025-05-23 00:00:00')\n",
            "  Timestamp('2025-05-20 00:00:00') Timestamp('2025-03-12 00:00:00')\n",
            "  Timestamp('2025-10-08 00:00:00') Timestamp('2026-05-06 00:00:00')\n",
            "  437813.0 0.746375 59.71 nan]\n",
            " [0.2580856070993884 0.7142857142857143 0.2530860321119309 0.0\n",
            "  0.3415225725686566 0.0 0.0 1.0 0.0 0.0 0.0 0.0 0.0 0.0\n",
            "  Timestamp('2025-05-23 17:24:11.232000') 4.0 'VE-DT-FL-WFD547'\n",
            "  Timestamp('2025-05-23 00:00:00') Timestamp('2025-05-20 00:00:00')\n",
            "  Timestamp('2025-01-30 00:00:00') Timestamp('2025-08-28 00:00:00')\n",
            "  Timestamp('2026-03-26 00:00:00') 273671.0 0.3936 39.36 nan]\n",
            " [0.2760622891213583 0.7142857142857143 0.27652509451079016 0.0\n",
            "  0.7790470229246537 0.0 0.0 1.0 0.0 0.0 0.0 0.0 0.0 0.0\n",
            "  Timestamp('2025-05-23 17:24:11.232000') 5.0 'VE-DT-IN-TAV909'\n",
            "  Timestamp('2025-05-23 00:00:00') Timestamp('2025-05-20 00:00:00')\n",
            "  Timestamp('2024-11-27 00:00:00') Timestamp('2025-06-25 00:00:00')\n",
            "  Timestamp('2026-01-21 00:00:00') 297932.0 0.9528 95.28 nan]\n",
            " [0.08175543469887686 1.0 0.07216247837096537 0.6095551894563427\n",
            "  0.17353884672560832 0.0 0.0 1.0 0.0 0.0 0.0 0.0 0.0 0.0\n",
            "  Timestamp('2025-05-23 17:24:11.232000') 6.0 'VE-DT-IN-TAW674'\n",
            "  Timestamp('2025-05-23 00:00:00') Timestamp('2024-05-15 00:00:00')\n",
            "  Timestamp('2024-01-03 00:00:00') NaT NaT 88403.0 0.1490833333 nan nan]\n",
            " [0.34292911396305487 1.0 0.34353524940897545 0.49258649093904444\n",
            "  0.929113527892966 0.0 0.0 1.0 0.0 0.0 0.0 0.0 0.0 0.0\n",
            "  Timestamp('2025-05-23 17:24:11.232000') 7.0 'VE-DT-IN-TAW675'\n",
            "  Timestamp('2025-05-23 00:00:00') Timestamp('2024-07-25 00:00:00')\n",
            "  Timestamp('2024-07-17 00:00:00') NaT NaT 369292.0 0.9538333333 nan\n",
            "  'PROBLEMAS CON POLIZA']\n",
            " [0.3603184171198792 1.0 0.36185773481330197 0.6507413509060955\n",
            "  0.9999999999999999 0.0 0.0 1.0 0.0 0.0 0.0 0.0 0.0 0.0\n",
            "  Timestamp('2025-05-23 17:24:11.232000') 8.0 'VE-DT-IN-TAW676'\n",
            "  Timestamp('2025-05-23 00:00:00') Timestamp('2024-04-20 00:00:00')\n",
            "  Timestamp('2024-06-06 00:00:00') NaT NaT 388257.0 1.029333333 nan nan]\n",
            " [0.4063236630871863 0.7142857142857143 0.40481050985105316\n",
            "  0.17957166392092258 0.5839136217823331 0.0 0.0 1.0 0.0 0.0 0.0 0.0 0.0\n",
            "  0.0 Timestamp('2025-05-23 17:24:11.232000') 9.0 'VE-DT-IN-TAW677'\n",
            "  Timestamp('2025-05-23 00:00:00') Timestamp('2025-01-31 00:00:00')\n",
            "  Timestamp('2024-10-16 00:00:00') Timestamp('2025-05-14 00:00:00')\n",
            "  Timestamp('2025-12-10 00:00:00') 430716.0 0.7034 70.34 nan]\n",
            " [0.36658026098879937 1.0 0.36168962975343627 0.49258649093904444\n",
            "  0.4775839136217823 0.0 0.0 1.0 0.0 0.0 0.0 0.0 0.0 0.0\n",
            "  Timestamp('2025-05-23 17:24:11.232000') 10.0 'VE-DT-IN-TAW678'\n",
            "  Timestamp('2025-05-23 00:00:00') Timestamp('2024-07-25 00:00:00')\n",
            "  Timestamp('2024-04-25 00:00:00') NaT NaT 388083.0 0.4729166667 nan nan]\n",
            " [0.366738179241068 0.7142857142857143 0.36217655475442656 0.0\n",
            "  0.3477036225647445 0.0 0.0 1.0 0.0 0.0 0.0 0.0 0.0 0.0\n",
            "  Timestamp('2025-05-23 17:24:11.232000') 11.0 'VE-DT-IN-TTR442'\n",
            "  Timestamp('2025-05-23 00:00:00') Timestamp('2025-05-20 00:00:00')\n",
            "  Timestamp('2025-02-17 00:00:00') Timestamp('2025-09-15 00:00:00')\n",
            "  Timestamp('2026-04-13 00:00:00') 386587.0 0.4015 40.15 nan]\n",
            " [0.14217072118569649 1.0 0.14269124607392564 0.6359143327841845\n",
            "  0.9762929348251309 0.0 0.0 1.0 0.0 0.0 0.0 0.0 0.0 0.0\n",
            "  Timestamp('2025-05-23 17:24:11.232000') 12.0 'VE-DT-IN-WFC325'\n",
            "  Timestamp('2025-05-23 00:00:00') Timestamp('2024-04-29 00:00:00')\n",
            "  Timestamp('2024-06-06 00:00:00') NaT NaT 161405.0 1.004083333 nan nan]\n",
            " [0.32694085383702837 1.0 0.3280348035441184 0.6079077429983525\n",
            "  0.9729285658399185 0.0 0.0 1.0 0.0 0.0 0.0 0.0 0.0 0.0\n",
            "  Timestamp('2025-05-23 17:24:11.232000') 13.0 'VE-DT-IN-WFC326'\n",
            "  Timestamp('2025-05-23 00:00:00') Timestamp('2024-05-16 00:00:00')\n",
            "  Timestamp('2024-05-21 00:00:00') NaT NaT 353248.0 1.0005 nan nan]\n",
            " [0.328166646124455 0.7142857142857143 0.32404665591695997 0.0\n",
            "  0.3938658946874266 0.0 0.0 1.0 0.0 0.0 0.0 0.0 0.0 0.0\n",
            "  Timestamp('2025-05-23 17:24:11.232000') 14.0 'VE-DT-IN-WFC327'\n",
            "  Timestamp('2025-05-23 00:00:00') Timestamp('2025-05-20 00:00:00')\n",
            "  Timestamp('2025-02-28 00:00:00') Timestamp('2025-09-26 00:00:00')\n",
            "  Timestamp('2026-04-24 00:00:00') 347120.0 0.4605 46.05 nan]\n",
            " [0.25486080083812224 0.7142857142857143 0.2553757389618257\n",
            "  0.39373970345963755 0.788983647601909 0.0 0.0 1.0 0.0 0.0 0.0 0.0 0.0\n",
            "  0.0 Timestamp('2025-05-23 17:24:11.232000') 15.0 'VE-DT-KW-TAX535'\n",
            "  Timestamp('2025-05-23 00:00:00') Timestamp('2024-09-23 00:00:00')\n",
            "  Timestamp('2024-09-16 00:00:00') Timestamp('2025-04-14 00:00:00')\n",
            "  Timestamp('2025-11-10 00:00:00') 276041.0 0.9655 nan nan]\n",
            " [0.2835528140262221 0.7142857142857143 0.2816822485887387\n",
            "  0.30642504118616143 0.5880604021594553 0.0 0.0 1.0 0.0 0.0 0.0 0.0 0.0\n",
            "  0.0 Timestamp('2025-05-23 17:24:11.232000') 16.0 'VE-DT-KW-TAX539'\n",
            "  Timestamp('2025-05-23 00:00:00') Timestamp('2024-11-15 00:00:00')\n",
            "  Timestamp('2024-08-02 00:00:00') Timestamp('2025-02-28 00:00:00')\n",
            "  Timestamp('2025-09-26 00:00:00') 303270.0 0.7087 nan nan]\n",
            " [0.2640008011462554 0.7142857142857143 0.2604961804404932\n",
            "  0.047775947281713346 0.46099679211329314 0.0 0.0 1.0 0.0 0.0 0.0 0.0\n",
            "  0.0 0.0 Timestamp('2025-05-23 17:24:11.232000') 17.0 'VE-DT-KW-TAX540'\n",
            "  Timestamp('2025-05-23 00:00:00') Timestamp('2025-04-21 00:00:00')\n",
            "  Timestamp('2025-02-03 00:00:00') Timestamp('2025-09-01 00:00:00')\n",
            "  Timestamp('2026-03-30 00:00:00') 281341.0 0.5463 54.63 nan]\n",
            " [0.2708403947185974 0.7142857142857143 0.26544368625412657\n",
            "  0.006589785831960461 0.3059228542367577 0.0 0.0 1.0 0.0 0.0 0.0 0.0 0.0\n",
            "  0.0 Timestamp('2025-05-23 17:24:11.232000') 18.0 'VE-DT-KW-TTS952'\n",
            "  Timestamp('2025-05-23 00:00:00') Timestamp('2025-05-16 00:00:00')\n",
            "  Timestamp('2025-01-23 00:00:00') Timestamp('2025-08-21 00:00:00')\n",
            "  Timestamp('2026-03-19 00:00:00') 286462.0 0.3481 34.81 nan]\n",
            " [0.27151828770394565 0.7142857142857143 0.27161043681230296 0.0\n",
            "  0.7502542837023706 0.0 0.0 1.0 0.0 0.0 0.0 0.0 0.0 0.0\n",
            "  Timestamp('2025-05-23 17:24:11.232000') 19.0 'VE-DT-FL-SOZ243'\n",
            "  Timestamp('2025-05-23 00:00:00') Timestamp('2025-05-20 00:00:00')\n",
            "  Timestamp('2024-07-05 00:00:00') Timestamp('2025-01-31 00:00:00')\n",
            "  Timestamp('2025-08-29 00:00:00') 292845.0 0.916 91.6 nan]\n",
            " [0.141893401328054 0.0 0.14021024725935616 0.0 0.2502151631327752 0.0\n",
            "  0.0 0.0 1.0 0.0 0.0 0.0 0.0 0.0 Timestamp('2025-05-23 17:24:11.232000')\n",
            "  20.0 'VE-GR-FO-WFG316' Timestamp('2025-05-23 00:00:00')\n",
            "  Timestamp('2025-05-20 00:00:00') Timestamp('2025-01-20 00:00:00')\n",
            "  Timestamp('2025-05-10 00:00:00') Timestamp('2025-12-06 00:00:00')\n",
            "  151837.0 0.5538 27.69 'trienergy']\n",
            " [0.0 0.0 0.0 0.13509060955518945 0.42477114466786636 0.0 0.0 0.0 0.0 1.0\n",
            "  0.0 0.0 0.0 0.0 Timestamp('2025-05-23 17:24:11.232000') 21.0\n",
            "  'VE-TB-MD-TBK246' Timestamp('2025-05-23 00:00:00')\n",
            "  Timestamp('2025-02-27 00:00:00') Timestamp('2025-02-27 00:00:00')\n",
            "  Timestamp('2025-06-17 00:00:00') Timestamp('2026-01-13 00:00:00')\n",
            "  6710.0 1.0 50.0 nan]\n",
            " [0.3748026021846642 0.4285714285714287 0.36790661860536567\n",
            "  0.39373970345963755 0.0 0.0 0.0 0.0 0.0 0.0 1.0 0.0 0.0 0.0 NaT 22.0\n",
            "  'VE-TM-FL-XMC858' Timestamp('2025-05-23 00:00:00')\n",
            "  Timestamp('2024-09-23 00:00:00') Timestamp('2024-01-09 00:00:00')\n",
            "  Timestamp('2024-08-06 00:00:00') Timestamp('2025-03-04 00:00:00')\n",
            "  390518.0 -0.053625 nan 'motoreste']\n",
            " [0.007538670713482367 1.0 0.007563761572922332 0.008237232289950576\n",
            "  0.9724591190047726 0.0 0.0 0.0 0.0 0.0 1.0 0.0 0.0 0.0 NaT 23.0\n",
            "  'VE-TM-HN-SRO974' Timestamp('2025-05-23 00:00:00')\n",
            "  Timestamp('2025-05-15 00:00:00') Timestamp('2025-05-15 00:00:00')\n",
            "  Timestamp('2025-12-11 00:00:00') Timestamp('2026-07-09 00:00:00')\n",
            "  21539.0 1.0 120.0 'la 61']\n",
            " [1.0000000000000002 1.0 1.0 0.06589785831960461 0.7029183944918237 0.0\n",
            "  0.0 0.0 0.0 0.0 1.0 0.0 0.0 0.0 NaT 24.0 'VE-TM-FL-SVO546'\n",
            "  Timestamp('2025-05-23 00:00:00') Timestamp('2025-04-10 00:00:00')\n",
            "  Timestamp('2025-02-28 00:00:00') Timestamp('2025-09-26 00:00:00')\n",
            "  Timestamp('2026-04-24 00:00:00') 1048777.0 0.7129166667 85.55 nan]\n",
            " [0.4939856255873789 0.1428571428571429 0.4932134827986981 0.0\n",
            "  0.30733119474219545 0.0 0.0 0.0 0.0 0.0 0.0 1.0 0.0 0.0\n",
            "  Timestamp('2025-05-23 17:24:11.232000') 25.0 'VE-TB-CH-SRL418'\n",
            "  Timestamp('2025-05-23 00:00:00') Timestamp('2025-05-20 00:00:00')\n",
            "  Timestamp('2025-04-16 00:00:00') Timestamp('2025-11-12 00:00:00')\n",
            "  Timestamp('2026-06-10 00:00:00') 518219.0 0.5831666667 34.99 nan]\n",
            " [0.2613383379296532 0.1428571428571429 0.2587397724012069\n",
            "  0.13344316309719934 0.222126594163211 0.0 0.0 0.0 0.0 0.0 0.0 1.0 0.0\n",
            "  0.0 Timestamp('2025-05-23 17:24:11.232000') 26.0 'VE-TB-CH-SUF310'\n",
            "  Timestamp('2025-05-23 00:00:00') Timestamp('2025-02-28 00:00:00')\n",
            "  Timestamp('2024-12-06 00:00:00') Timestamp('2025-07-04 00:00:00')\n",
            "  Timestamp('2026-01-30 00:00:00') 275523.0 0.4016666667 24.1 nan]\n",
            " [0.18521211117444963 0.2857142857142857 0.18512714635864153\n",
            "  0.642504118616145 0.5244503559971833 0.0 0.0 0.0 0.0 0.0 0.0 1.0 0.0\n",
            "  0.0 Timestamp('2025-05-23 17:24:11.232000') 27.0 'VE-TB-HY-WGA173'\n",
            "  Timestamp('2025-05-23 00:00:00') Timestamp('2024-04-25 00:00:00')\n",
            "  Timestamp('2024-02-02 00:00:00') NaT NaT 200329.0 0.8962857143 nan nan]\n",
            " [0.4021041644198623 0.2857142857142857 0.40311883192102543\n",
            "  0.7578253706754531 0.555042641420859 0.0 0.0 0.0 0.0 0.0 0.0 1.0 0.0\n",
            "  0.0 Timestamp('2025-05-23 17:24:11.232000') 28.0 'VE-TB-CH-SUF685'\n",
            "  Timestamp('2025-05-23 00:00:00') Timestamp('2024-02-15 00:00:00')\n",
            "  Timestamp('2022-09-23 00:00:00') NaT NaT 425965.0 0.9521428571 nan nan]\n",
            " [0.2989305852989662 0.1428571428571429 0.297479293610945 0.0\n",
            "  0.30490571942727485 0.0 0.0 0.0 0.0 0.0 0.0 1.0 0.0 0.0 NaT 29.0\n",
            "  'VE-TB-CH-TAX650' Timestamp('2025-05-23 00:00:00')\n",
            "  Timestamp('2025-05-20 00:00:00') Timestamp('2025-03-04 00:00:00')\n",
            "  Timestamp('2025-09-30 00:00:00') Timestamp('2026-04-28 00:00:00')\n",
            "  315621.0 0.578 34.68 nan]\n",
            " [0.06205705856070994 0.2857142857142857 0.05935074734292563\n",
            "  0.6672158154859967 0.34535638838901495 0.0 0.0 0.0 0.0 0.0 0.0 1.0 0.0\n",
            "  0.0 NaT 30.0 'VE-TB-FT-WOM542' Timestamp('2025-05-23 00:00:00')\n",
            "  Timestamp('2024-04-10 00:00:00') Timestamp('2024-02-05 00:00:00') NaT\n",
            "  NaT 70142.0 0.5692857143 nan nan]\n",
            " [0.2206801654675151 0.7142857142857143 0.2190428252470613 0.0\n",
            "  0.6238948439089272 0.0 0.0 0.0 0.0 0.0 0.0 0.0 1.0 0.0\n",
            "  Timestamp('2025-05-23 17:24:11.232000') 31.0 'VE-VS-CH-TAV332'\n",
            "  Timestamp('2025-05-23 00:00:00') Timestamp('2025-05-20 00:00:00')\n",
            "  Timestamp('2025-04-09 00:00:00') Timestamp('2025-11-05 00:00:00')\n",
            "  Timestamp('2026-06-03 00:00:00') 238434.0 0.7545 75.45 nan]\n",
            " [0.6328660622120882 1.0 0.6349724220750929 0.001647446457990115\n",
            "  0.9724591190047726 0.0 0.0 0.0 0.0 0.0 1.0 0.0 0.0 0.0\n",
            "  Timestamp('2025-05-23 17:24:11.232000') 32.0 'VE-TM-FL-WFL031'\n",
            "  Timestamp('2025-05-23 00:00:00') Timestamp('2025-05-19 00:00:00')\n",
            "  Timestamp('2025-04-15 00:00:00') Timestamp('2025-11-11 00:00:00') NaT\n",
            "  670949.0 1.0 120.0 nan]\n",
            " [nan nan nan nan nan nan 0.0 0.0 0.0 0.0 0.0 0.0 0.0 1.0\n",
            "  Timestamp('2025-05-23 17:24:11.232000') nan nan NaT NaT NaT NaT NaT nan\n",
            "  nan nan nan]\n",
            " [nan nan nan nan nan nan 0.0 0.0 0.0 0.0 0.0 0.0 0.0 1.0\n",
            "  Timestamp('2025-05-23 17:24:11.232000') nan nan NaT NaT NaT NaT NaT nan\n",
            "  nan nan nan]\n",
            " [nan nan nan nan nan nan 0.0 0.0 0.0 0.0 0.0 0.0 0.0 1.0\n",
            "  Timestamp('2025-05-23 17:24:11.232000') nan nan NaT NaT NaT NaT NaT nan\n",
            "  nan nan nan]\n",
            " [nan nan nan nan nan nan 0.0 0.0 0.0 0.0 0.0 0.0 0.0 1.0\n",
            "  Timestamp('2025-05-23 17:24:11.232000') nan nan NaT NaT NaT NaT NaT nan\n",
            "  nan nan nan]]\n"
          ]
        }
      ]
    },
    {
      "cell_type": "code",
      "source": [
        "# Get the column names after one-hot encoding\n",
        "# This requires knowing the categories in your categorical column\n",
        "# You can get the categories from the preprocessor\n",
        "ohe_categories = preprocessor.named_transformers_['cat'].categories_[0]\n",
        "ohe_column_names = [f'Tipo_Vehiculo_{cat}' for cat in ohe_categories]\n",
        "\n",
        "# Get the names of the columns that were passed through\n",
        "# You'll need to identify these columns from your original DataFrame\n",
        "# For this example, let's assume the original date columns and other columns are passed through\n",
        "passthrough_columns = [col for col in df.columns if col not in columnas_a_escalar + columnas_fecha_num + columna_categorica]\n",
        "\n",
        "# Combine all the column names in the correct order\n",
        "all_processed_columns = columnas_a_escalar + columnas_fecha_num + ohe_column_names + passthrough_columns\n",
        "\n",
        "# Create a new DataFrame from the processed array with the combined column names\n",
        "df_procesado_df = pd.DataFrame(df_procesado, columns=all_processed_columns)\n",
        "\n",
        "# Display the new DataFrame\n",
        "print(df_procesado_df.head())"
      ],
      "metadata": {
        "id": "JUdeLXOW4yL_",
        "outputId": "27b7b195-88d4-41d7-9d86-27c78e481134",
        "colab": {
          "base_uri": "https://localhost:8080/"
        }
      },
      "execution_count": 50,
      "outputs": [
        {
          "output_type": "stream",
          "name": "stdout",
          "text": [
            "     Ult_Km   Km_Plan Km_Cambio Dias_Pend   Km_Pend año_revision  \\\n",
            "0  0.307288  0.714286  0.304203       0.0  0.483296          0.0   \n",
            "1  0.200126  0.714286  0.191427       1.0  0.057585          0.0   \n",
            "2  0.414181  0.428571  0.413599       0.0  0.500743          0.0   \n",
            "3  0.258086  0.714286  0.253086       0.0  0.341523          0.0   \n",
            "4  0.276062  0.714286  0.276525       0.0  0.779047          0.0   \n",
            "\n",
            "  Tipo_Vehiculo_CARRO TANQUE Tipo_Vehiculo_DOBLETROQUE Tipo_Vehiculo_GRUA  \\\n",
            "0                        1.0                       0.0                0.0   \n",
            "1                        0.0                       1.0                0.0   \n",
            "2                        0.0                       1.0                0.0   \n",
            "3                        0.0                       1.0                0.0   \n",
            "4                        0.0                       1.0                0.0   \n",
            "\n",
            "  Tipo_Vehiculo_IRRIGADOR  ... CODIGO DE EQUIPO fecha_revision  \\\n",
            "0                     0.0  ...  VE-DT-CH-XMD284     2025-05-23   \n",
            "1                     0.0  ...  VE-DT-FL-XMD588     2025-05-23   \n",
            "2                     0.0  ...  VE-DT-FL-SUE755     2025-05-23   \n",
            "3                     0.0  ...  VE-DT-FL-WFD547     2025-05-23   \n",
            "4                     0.0  ...  VE-DT-IN-TAV909     2025-05-23   \n",
            "\n",
            "  Fecha Ult Pre-Operacional Fecha Cambio Fecha Prox Cambio Unnamed: 12  \\\n",
            "0                2025-05-20   2024-06-21        2025-01-17  2025-08-15   \n",
            "1                2023-09-21   2023-07-11               NaT         NaT   \n",
            "2                2025-05-20   2025-03-12        2025-10-08  2026-05-06   \n",
            "3                2025-05-20   2025-01-30        2025-08-28  2026-03-26   \n",
            "4                2025-05-20   2024-11-27        2025-06-25  2026-01-21   \n",
            "\n",
            "  Km/Hr Proyectada  Progreso Unnamed: 16 Observaciones   \n",
            "0         326580.0    0.5748       57.48          57.48  \n",
            "1         209850.0    0.0307         NaN            NaN  \n",
            "2         437813.0  0.746375       59.71            NaN  \n",
            "3         273671.0    0.3936       39.36            NaN  \n",
            "4         297932.0    0.9528       95.28            NaN  \n",
            "\n",
            "[5 rows x 26 columns]\n"
          ]
        }
      ]
    },
    {
      "cell_type": "code",
      "source": [
        "from sklearn.preprocessing import MinMaxScaler\n",
        "\n",
        "# Seleccionar las columnas numéricas a escalar (basado en tu código anterior)\n",
        "columnas_a_escalar = ['Ult_Km', 'Km_Plan', 'Km_Cambio', 'Dias_Pend', 'Km_Pend']\n",
        "\n",
        "# Crear una instancia de MinMaxScaler\n",
        "scaler = MinMaxScaler()\n",
        "\n",
        "# Aplicar MinMaxScaler a las columnas seleccionadas\n",
        "df[columnas_a_escalar] = scaler.fit_transform(df[columnas_a_escalar])\n",
        "\n",
        "# Ahora las columnas seleccionadas en tu DataFrame 'df' están escaladas entre 0 y 1"
      ],
      "metadata": {
        "id": "opZnRItA0XgR"
      },
      "execution_count": null,
      "outputs": []
    }
  ]
}